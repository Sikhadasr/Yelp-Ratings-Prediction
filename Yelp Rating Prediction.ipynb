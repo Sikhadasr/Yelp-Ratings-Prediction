{
 "cells": [
  {
   "cell_type": "markdown",
   "metadata": {},
   "source": [
    "# **Final Project: Yelp Business Ratings Prediction**\n",
    "\n",
    "\n",
    "\n",
    "**About the data:**\n",
    "This data was obtained from Kaggle, courtesy of Yelp. It includes information on 174,000 businesses globally and spans from business attributes to checkins and reviews.\n",
    "\n",
    "**Data Description:**\n",
    "We used 4 of the 7 datasets provided on Kaggle:\n",
    "\n",
    "    Business: Business ID, name, city, state, latitude, longitude, categories, stars, review_count\n",
    "    \n",
    "    Business Attributes: Good for meals, Dogs allowed, Parking options, Accepts credit cards, Bike Parking, Good For Kids, Takes Reservations, Happy Hour, Caters, Alcohol, Open 24 Hours\n",
    "    \n",
    "    Tips: text, date, likes, Business ID, User ID\n",
    "    \n",
    "    Checkins: Business ID, weekday, hour, checkins per day\n",
    "\n",
    "\n",
    "**Project Outline:**\n",
    "\n",
    "I. Data Cleansing\n",
    "\n",
    "II. Three Key Findings\n",
    "    \n",
    "III. Managerial Findings & Recommendations\n"
   ]
  },
  {
   "cell_type": "code",
   "execution_count": 1,
   "metadata": {},
   "outputs": [
    {
     "name": "stdout",
     "output_type": "stream",
     "text": [
      "Populating the interactive namespace from numpy and matplotlib\n"
     ]
    }
   ],
   "source": [
    "#import modules:\n",
    "\n",
    "from IPython.core.interactiveshell import InteractiveShell\n",
    "InteractiveShell.ast_node_interactivity = \"all\"\n",
    "\n",
    "import seaborn as sns\n",
    "import pandas as pd\n",
    "import numpy as np\n",
    "%pylab inline\n",
    "\n",
    "import sklearn as sk\n",
    "import sklearn.tree as tree\n",
    "from IPython.display import Image  \n",
    "import pydotplus\n",
    "\n",
    "#workaround for weird characters in data\n",
    "reload(sys)\n",
    "sys.setdefaultencoding('utf8')"
   ]
  },
  {
   "cell_type": "code",
   "execution_count": 2,
   "metadata": {},
   "outputs": [],
   "source": [
    "#read in dataset 1:\n",
    "bus = pd.read_csv(\"yelp_business.csv\")"
   ]
  },
  {
   "cell_type": "code",
   "execution_count": 3,
   "metadata": {
    "scrolled": true
   },
   "outputs": [
    {
     "data": {
      "text/html": [
       "<div>\n",
       "<style>\n",
       "    .dataframe thead tr:only-child th {\n",
       "        text-align: right;\n",
       "    }\n",
       "\n",
       "    .dataframe thead th {\n",
       "        text-align: left;\n",
       "    }\n",
       "\n",
       "    .dataframe tbody tr th {\n",
       "        vertical-align: top;\n",
       "    }\n",
       "</style>\n",
       "<table border=\"1\" class=\"dataframe\">\n",
       "  <thead>\n",
       "    <tr style=\"text-align: right;\">\n",
       "      <th></th>\n",
       "      <th>business_id</th>\n",
       "      <th>name</th>\n",
       "      <th>neighborhood</th>\n",
       "      <th>address</th>\n",
       "      <th>city</th>\n",
       "      <th>state</th>\n",
       "      <th>postal_code</th>\n",
       "      <th>latitude</th>\n",
       "      <th>longitude</th>\n",
       "      <th>stars</th>\n",
       "      <th>review_count</th>\n",
       "      <th>is_open</th>\n",
       "      <th>categories</th>\n",
       "    </tr>\n",
       "  </thead>\n",
       "  <tbody>\n",
       "    <tr>\n",
       "      <th>0</th>\n",
       "      <td>FYWN1wneV18bWNgQjJ2GNg</td>\n",
       "      <td>\"Dental by Design\"</td>\n",
       "      <td>NaN</td>\n",
       "      <td>\"4855 E Warner Rd, Ste B9\"</td>\n",
       "      <td>Ahwatukee</td>\n",
       "      <td>AZ</td>\n",
       "      <td>85044</td>\n",
       "      <td>33.330690</td>\n",
       "      <td>-111.978599</td>\n",
       "      <td>4.0</td>\n",
       "      <td>22</td>\n",
       "      <td>1</td>\n",
       "      <td>Dentists;General Dentistry;Health &amp; Medical;Or...</td>\n",
       "    </tr>\n",
       "    <tr>\n",
       "      <th>1</th>\n",
       "      <td>He-G7vWjzVUysIKrfNbPUQ</td>\n",
       "      <td>\"Stephen Szabo Salon\"</td>\n",
       "      <td>NaN</td>\n",
       "      <td>\"3101 Washington Rd\"</td>\n",
       "      <td>McMurray</td>\n",
       "      <td>PA</td>\n",
       "      <td>15317</td>\n",
       "      <td>40.291685</td>\n",
       "      <td>-80.104900</td>\n",
       "      <td>3.0</td>\n",
       "      <td>11</td>\n",
       "      <td>1</td>\n",
       "      <td>Hair Stylists;Hair Salons;Men's Hair Salons;Bl...</td>\n",
       "    </tr>\n",
       "  </tbody>\n",
       "</table>\n",
       "</div>"
      ],
      "text/plain": [
       "              business_id                   name neighborhood  \\\n",
       "0  FYWN1wneV18bWNgQjJ2GNg     \"Dental by Design\"          NaN   \n",
       "1  He-G7vWjzVUysIKrfNbPUQ  \"Stephen Szabo Salon\"          NaN   \n",
       "\n",
       "                      address       city state postal_code   latitude  \\\n",
       "0  \"4855 E Warner Rd, Ste B9\"  Ahwatukee    AZ       85044  33.330690   \n",
       "1        \"3101 Washington Rd\"   McMurray    PA       15317  40.291685   \n",
       "\n",
       "    longitude  stars  review_count  is_open  \\\n",
       "0 -111.978599    4.0            22        1   \n",
       "1  -80.104900    3.0            11        1   \n",
       "\n",
       "                                          categories  \n",
       "0  Dentists;General Dentistry;Health & Medical;Or...  \n",
       "1  Hair Stylists;Hair Salons;Men's Hair Salons;Bl...  "
      ]
     },
     "execution_count": 3,
     "metadata": {},
     "output_type": "execute_result"
    }
   ],
   "source": [
    "bus.head(2)"
   ]
  },
  {
   "cell_type": "code",
   "execution_count": 4,
   "metadata": {
    "collapsed": true
   },
   "outputs": [],
   "source": [
    "#dataset 2:\n",
    "bus_att = pd.read_csv(\"yelp_business_attributes.csv\")"
   ]
  },
  {
   "cell_type": "markdown",
   "metadata": {},
   "source": [
    "## Part I: Data Cleaning\n",
    "1. drop unwanted columns\n",
    "\n",
    "2. convert columns to dummies\n",
    "\n",
    "3. merge datasets to create master dataframe"
   ]
  },
  {
   "cell_type": "markdown",
   "metadata": {},
   "source": [
    "### Cleaning of Dataset1:"
   ]
  },
  {
   "cell_type": "markdown",
   "metadata": {
    "collapsed": true
   },
   "source": [
    "1. Remove some unnecessary columns from Dataset1:"
   ]
  },
  {
   "cell_type": "code",
   "execution_count": 5,
   "metadata": {},
   "outputs": [],
   "source": [
    "bus.drop(['neighborhood','address'],axis=1,inplace=True)"
   ]
  },
  {
   "cell_type": "markdown",
   "metadata": {},
   "source": [
    "### Cleaning of Dataset 2:\n",
    "From the output above, we can see that there are many columns, more than we need for our business analysis.  We can do the following to clean up the data:\n",
    "1.remove some of these columns \n",
    "2.make one dummy out of the columns which are similar"
   ]
  },
  {
   "cell_type": "code",
   "execution_count": 6,
   "metadata": {},
   "outputs": [],
   "source": [
    "#Dropping columns having mostly NA Values\n",
    "\n",
    "bus_att = bus_att[bus_att.columns.drop(list(bus_att.filter(regex='HairSpecializesIn')))]\n",
    "bus_att = bus_att[bus_att.columns.drop(list(bus_att.filter(regex='Music')))]\n",
    "bus_att = bus_att[bus_att.columns.drop(list(bus_att.filter(regex='Ambience')))]\n",
    "bus_att = bus_att[bus_att.columns.drop(list(bus_att.filter(regex='BYOB')))]\n",
    "\n",
    "\n",
    "bus_att.drop([\"AcceptsInsurance\", \"CoatCheck\",  \"Smoking\",\"DriveThru\", \"GoodForDancing\",  \\\n",
    "              \"Corkage\", \"ByAppointmentOnly\",\"RestaurantsPriceRange2\",\\\n",
    "              \"HasTV\",\"NoiseLevel\",\"RestaurantsAttire\",\"WiFi\",\"RestaurantsTakeOut\",\"OutdoorSeating\",\\\n",
    "             \"RestaurantsDelivery\",\"BusinessAcceptsBitcoin\",\"AgesAllowed\",\"RestaurantsCounterService\",\"RestaurantsGoodForGroups\"], axis=1,inplace=True)"
   ]
  },
  {
   "cell_type": "code",
   "execution_count": 7,
   "metadata": {},
   "outputs": [],
   "source": [
    "bus_att.columns = [c.replace('-', '_') for c in bus_att.columns]"
   ]
  },
  {
   "cell_type": "code",
   "execution_count": 8,
   "metadata": {},
   "outputs": [],
   "source": [
    "###Creating Parking Dummy\n",
    "bus_att.loc[(bus_att.BusinessParking_garage=='True')|(bus_att.BusinessParking_street=='True')|\\\n",
    "        (bus_att.BusinessParking_validated=='True')|(bus_att.BusinessParking_lot=='True')|\\\n",
    "        (bus_att.BusinessParking_valet=='True'),'Parking'] = 1\n",
    "bus_att.loc[(bus_att.Parking!=1)&((bus_att.BusinessParking_garage=='False')|(bus_att.BusinessParking_street=='False')\\\n",
    "                          |(bus_att.BusinessParking_validated=='False')|(bus_att.BusinessParking_lot=='False')|\\\n",
    "                          (bus_att.BusinessParking_valet=='False')),'Parking'] = 0\n",
    "bus_att.loc[((bus_att.BusinessParking_garage == 'Na')&(bus_att.BusinessParking_street == 'Na')&\\\n",
    "         (bus_att.BusinessParking_validated == 'Na')&(bus_att.BusinessParking_lot == 'Na')&\\\n",
    "         (bus_att.BusinessParking_valet == 'Na')),'Parking'] = 'Na'"
   ]
  },
  {
   "cell_type": "code",
   "execution_count": 9,
   "metadata": {
    "collapsed": true
   },
   "outputs": [],
   "source": [
    "##deleting the columns for which combined dummy columns has been created above\n",
    "bus_att = bus_att[bus_att.columns.drop(list(bus_att.filter(regex='BusinessParking')))]\n",
    "bus_att = bus_att[bus_att.columns.drop(list(bus_att.filter(regex='BestNights')))]\n",
    "bus_att = bus_att[bus_att.columns.drop(list(bus_att.filter(regex='GoodForMeal')))]\n",
    "bus_att = bus_att[bus_att.columns.drop(list(bus_att.filter(regex='DietaryRestrictions')))]"
   ]
  },
  {
   "cell_type": "code",
   "execution_count": 10,
   "metadata": {},
   "outputs": [],
   "source": [
    "#Transform TRUE FALSE variables to 0 and 1s and create dummies:\n",
    "\n",
    "bus_att.loc[bus_att.BusinessAcceptsCreditCards == 'True', 'BusinessAcceptsCreditCards'] = 1\n",
    "bus_att.loc[bus_att.BusinessAcceptsCreditCards == 'False', 'BusinessAcceptsCreditCards'] = 0\n",
    "bus_att.loc[bus_att.BusinessAcceptsCreditCards == 'Na', 'BusinessAcceptsCreditCards'] = 'NaN'\n",
    "\n",
    "bus_att.loc[bus_att.GoodForKids == '1', 'GoodForKids'] = 0\n",
    "bus_att.loc[bus_att.GoodForKids == '2', 'GoodForKids'] = 0\n",
    "bus_att.loc[bus_att.GoodForKids == '3', 'GoodForKids'] = 1\n",
    "bus_att.loc[bus_att.GoodForKids == '4', 'GoodForKids'] = 1\n",
    "bus_att.loc[bus_att.GoodForKids == 'Na', 'GoodForKids'] = 'Na'\n",
    "\n",
    "bus_att.loc[bus_att.WheelchairAccessible == 'True', 'WheelchairAccessible'] = 1\n",
    "bus_att.loc[bus_att.WheelchairAccessible == 'False', 'WheelchairAccessible'] = 0\n",
    "bus_att.loc[bus_att.WheelchairAccessible == 'Na', 'WheelchairAccessible'] = 'NaN'\n",
    "\n",
    "bus_att.loc[bus_att.BikeParking == 'True', 'BikeParking'] = 1\n",
    "bus_att.loc[bus_att.BikeParking == 'False', 'BikeParking'] = 0\n",
    "bus_att.loc[bus_att.BikeParking == 'Na', 'BikeParking'] = 'NaN'\n",
    "\n",
    "bus_att.loc[bus_att.Alcohol == 'True', 'Alcohol'] = 1\n",
    "bus_att.loc[bus_att.Alcohol == 'False', 'Alcohol'] = 0\n",
    "bus_att.loc[bus_att.Alcohol == 'Na', 'Alcohol'] = 'NaN'\n",
    "\n",
    "\n",
    "bus_att.loc[bus_att.Caters == 'True', 'Caters'] = 1\n",
    "bus_att.loc[bus_att.Caters == 'False', 'Caters'] = 0\n",
    "bus_att.loc[bus_att.Caters == 'Na', 'Caters'] = 'NaN'\n",
    "\n",
    "bus_att.loc[bus_att.RestaurantsReservations == 'True', 'RestaurantsReservations'] = 1\n",
    "bus_att.loc[bus_att.RestaurantsReservations == 'False', 'RestaurantsReservations'] = 0\n",
    "bus_att.loc[bus_att.RestaurantsReservations == 'Na', 'RestaurantsReservations'] = 'NaN'\n",
    "\n",
    "bus_att.loc[bus_att.HappyHour == 'True', 'HappyHour'] = 1\n",
    "bus_att.loc[bus_att.HappyHour == 'False', 'HappyHour'] = 0\n",
    "bus_att.loc[bus_att.HappyHour == 'Na', 'HappyHour'] = 'NaN'\n",
    "\n",
    "bus_att.loc[bus_att.RestaurantsTableService == 'True', 'RestaurantsTableService'] = 1\n",
    "bus_att.loc[bus_att.RestaurantsTableService == 'False', 'RestaurantsTableService'] = 0\n",
    "bus_att.loc[bus_att.RestaurantsTableService == 'Na', 'RestaurantsTableService'] = 'NaN'\n",
    "\n",
    "bus_att.loc[bus_att.DogsAllowed == 'True', 'DogsAllowed'] = 1\n",
    "bus_att.loc[bus_att.DogsAllowed == 'False', 'DogsAllowed'] = 0\n",
    "bus_att.loc[bus_att.DogsAllowed == 'Na', 'DogsAllowed'] = 'NaN'\n",
    "\n",
    "\n",
    "bus_att.loc[bus_att.Open24Hours == 'True', 'Open24Hours'] = 1\n",
    "bus_att.loc[bus_att.Open24Hours == 'False', 'Open24Hours'] = 0\n",
    "bus_att.loc[bus_att.Open24Hours == 'Na', 'Open24Hours'] = 'NaN'"
   ]
  },
  {
   "cell_type": "markdown",
   "metadata": {},
   "source": [
    "Now we can merge datasets 1 and 2 together on the common column \"business_id\"."
   ]
  },
  {
   "cell_type": "code",
   "execution_count": 11,
   "metadata": {},
   "outputs": [],
   "source": [
    "##merging dataset\n",
    "mdf= bus.merge(bus_att, left_on = \"business_id\", right_on = \"business_id\")"
   ]
  },
  {
   "cell_type": "code",
   "execution_count": 12,
   "metadata": {},
   "outputs": [],
   "source": [
    "mdf.info()"
   ]
  },
  {
   "cell_type": "markdown",
   "metadata": {
    "collapsed": true
   },
   "source": [
    "### More cleaning after creation of master DF"
   ]
  },
  {
   "cell_type": "markdown",
   "metadata": {},
   "source": [
    "Later we want to use machine learning techniques to look at which types of businesses get high rating (0-3.5 stars) vs. low rating (4-5 stars), so we must create a rating dummy for this:"
   ]
  },
  {
   "cell_type": "code",
   "execution_count": 13,
   "metadata": {
    "collapsed": true
   },
   "outputs": [],
   "source": [
    "##Creating Dummy for Stars\n",
    "\n",
    "mdf.loc[mdf.stars > 3.5, 'stars_dum'] = 1\n",
    "mdf.loc[mdf.stars <= 3.5, 'stars_dum'] = 0"
   ]
  },
  {
   "cell_type": "code",
   "execution_count": 14,
   "metadata": {},
   "outputs": [],
   "source": [
    "##Getting general categories: ???\n",
    "# Creating Restaurant_only dummy column\n",
    "\n",
    "mdf['Restaurants'] = mdf['categories'].str.contains(\"Restaurants\")\n",
    "\n",
    "mdf.loc[mdf.Restaurants == True, 'Restaurants_dum'] = 1\n",
    "mdf.loc[mdf.Restaurants == False, 'Restaurants_dum'] = 0"
   ]
  },
  {
   "cell_type": "code",
   "execution_count": 15,
   "metadata": {},
   "outputs": [],
   "source": [
    "# Creating Health dummy column \n",
    "mdf['Health'] = mdf['categories'].str.contains(\"Health & Medical\")\n",
    "\n",
    "mdf.loc[mdf.Health == True, 'Health_dum'] = 1\n",
    "mdf.loc[mdf.Health == False, 'Health_dum'] = 0"
   ]
  },
  {
   "cell_type": "code",
   "execution_count": 16,
   "metadata": {
    "collapsed": true
   },
   "outputs": [],
   "source": [
    "# Creating Shopping dummy column\n",
    "mdf['Shopping'] = mdf['categories'].str.contains(\"Shopping\")\n",
    "\n",
    "mdf.loc[mdf.Shopping == True, 'Shopping_dum'] = 1\n",
    "mdf.loc[mdf.Shopping == False, 'Shopping_dum'] = 0"
   ]
  },
  {
   "cell_type": "code",
   "execution_count": 17,
   "metadata": {
    "collapsed": true
   },
   "outputs": [],
   "source": [
    "# Creating Beauty dummy column\n",
    "mdf['Beauty'] = mdf['categories'].str.contains(\"Beauty & Spas\")\n",
    "\n",
    "mdf.loc[mdf.Beauty == True, 'Beauty_dum'] = 1\n",
    "mdf.loc[mdf.Beauty == False, 'Beauty_dum'] = 0"
   ]
  },
  {
   "cell_type": "code",
   "execution_count": 18,
   "metadata": {
    "collapsed": true
   },
   "outputs": [],
   "source": [
    "# Creating Nightlife dummy column\n",
    "mdf['Nightlife'] = mdf['categories'].str.contains(\"Nightlife\")\n",
    "\n",
    "mdf.loc[mdf.Nightlife == True, 'Nightlife_dum'] = 1\n",
    "mdf.loc[mdf.Nightlife == False, 'Nightlife_dum'] = 0"
   ]
  },
  {
   "cell_type": "code",
   "execution_count": 19,
   "metadata": {},
   "outputs": [
    {
     "data": {
      "text/html": [
       "<div>\n",
       "<style>\n",
       "    .dataframe thead tr:only-child th {\n",
       "        text-align: right;\n",
       "    }\n",
       "\n",
       "    .dataframe thead th {\n",
       "        text-align: left;\n",
       "    }\n",
       "\n",
       "    .dataframe tbody tr th {\n",
       "        vertical-align: top;\n",
       "    }\n",
       "</style>\n",
       "<table border=\"1\" class=\"dataframe\">\n",
       "  <thead>\n",
       "    <tr style=\"text-align: right;\">\n",
       "      <th></th>\n",
       "      <th>business_id</th>\n",
       "      <th>name</th>\n",
       "      <th>city</th>\n",
       "      <th>state</th>\n",
       "      <th>postal_code</th>\n",
       "      <th>latitude</th>\n",
       "      <th>longitude</th>\n",
       "      <th>stars</th>\n",
       "      <th>review_count</th>\n",
       "      <th>is_open</th>\n",
       "      <th>...</th>\n",
       "      <th>RestaurantsTableService</th>\n",
       "      <th>DogsAllowed</th>\n",
       "      <th>Open24Hours</th>\n",
       "      <th>Parking</th>\n",
       "      <th>stars_dum</th>\n",
       "      <th>Restaurants_dum</th>\n",
       "      <th>Health_dum</th>\n",
       "      <th>Shopping_dum</th>\n",
       "      <th>Beauty_dum</th>\n",
       "      <th>Nightlife_dum</th>\n",
       "    </tr>\n",
       "  </thead>\n",
       "  <tbody>\n",
       "    <tr>\n",
       "      <th>0</th>\n",
       "      <td>FYWN1wneV18bWNgQjJ2GNg</td>\n",
       "      <td>\"Dental by Design\"</td>\n",
       "      <td>Ahwatukee</td>\n",
       "      <td>AZ</td>\n",
       "      <td>85044</td>\n",
       "      <td>33.330690</td>\n",
       "      <td>-111.978599</td>\n",
       "      <td>4.0</td>\n",
       "      <td>22</td>\n",
       "      <td>1</td>\n",
       "      <td>...</td>\n",
       "      <td>NaN</td>\n",
       "      <td>NaN</td>\n",
       "      <td>NaN</td>\n",
       "      <td>1</td>\n",
       "      <td>1.0</td>\n",
       "      <td>0.0</td>\n",
       "      <td>1.0</td>\n",
       "      <td>0.0</td>\n",
       "      <td>0.0</td>\n",
       "      <td>0.0</td>\n",
       "    </tr>\n",
       "    <tr>\n",
       "      <th>1</th>\n",
       "      <td>He-G7vWjzVUysIKrfNbPUQ</td>\n",
       "      <td>\"Stephen Szabo Salon\"</td>\n",
       "      <td>McMurray</td>\n",
       "      <td>PA</td>\n",
       "      <td>15317</td>\n",
       "      <td>40.291685</td>\n",
       "      <td>-80.104900</td>\n",
       "      <td>3.0</td>\n",
       "      <td>11</td>\n",
       "      <td>1</td>\n",
       "      <td>...</td>\n",
       "      <td>NaN</td>\n",
       "      <td>NaN</td>\n",
       "      <td>NaN</td>\n",
       "      <td>Na</td>\n",
       "      <td>0.0</td>\n",
       "      <td>0.0</td>\n",
       "      <td>0.0</td>\n",
       "      <td>0.0</td>\n",
       "      <td>1.0</td>\n",
       "      <td>0.0</td>\n",
       "    </tr>\n",
       "  </tbody>\n",
       "</table>\n",
       "<p>2 rows × 28 columns</p>\n",
       "</div>"
      ],
      "text/plain": [
       "              business_id                   name       city state postal_code  \\\n",
       "0  FYWN1wneV18bWNgQjJ2GNg     \"Dental by Design\"  Ahwatukee    AZ       85044   \n",
       "1  He-G7vWjzVUysIKrfNbPUQ  \"Stephen Szabo Salon\"   McMurray    PA       15317   \n",
       "\n",
       "    latitude   longitude  stars  review_count  is_open      ...       \\\n",
       "0  33.330690 -111.978599    4.0            22        1      ...        \n",
       "1  40.291685  -80.104900    3.0            11        1      ...        \n",
       "\n",
       "  RestaurantsTableService DogsAllowed Open24Hours Parking stars_dum  \\\n",
       "0                     NaN         NaN         NaN       1       1.0   \n",
       "1                     NaN         NaN         NaN      Na       0.0   \n",
       "\n",
       "  Restaurants_dum Health_dum Shopping_dum Beauty_dum Nightlife_dum  \n",
       "0             0.0        1.0          0.0        0.0           0.0  \n",
       "1             0.0        0.0          0.0        1.0           0.0  \n",
       "\n",
       "[2 rows x 28 columns]"
      ]
     },
     "execution_count": 19,
     "metadata": {},
     "output_type": "execute_result"
    }
   ],
   "source": [
    "##drop boolean columns:\n",
    "\n",
    "mdf.drop(['Restaurants', 'Health', 'Shopping', 'Nightlife', 'Beauty', 'categories'], axis=1).head(2)"
   ]
  },
  {
   "cell_type": "markdown",
   "metadata": {},
   "source": [
    "### Fill in the NA's using median of each column"
   ]
  },
  {
   "cell_type": "code",
   "execution_count": 20,
   "metadata": {},
   "outputs": [
    {
     "data": {
      "text/plain": [
       "0.0"
      ]
     },
     "execution_count": 20,
     "metadata": {},
     "output_type": "execute_result"
    },
    {
     "data": {
      "text/plain": [
       "array([0, 1], dtype=int64)"
      ]
     },
     "execution_count": 20,
     "metadata": {},
     "output_type": "execute_result"
    }
   ],
   "source": [
    "# Fill in BusinessAcceptsCreditCards column's na values with it's median value\n",
    "mdf['BusinessAcceptsCreditCards'].median()\n",
    "mdf['BusinessAcceptsCreditCards'] = mdf['BusinessAcceptsCreditCards'].replace('NaN', 0)\n",
    "mdf['BusinessAcceptsCreditCards'].unique()"
   ]
  },
  {
   "cell_type": "code",
   "execution_count": 21,
   "metadata": {},
   "outputs": [
    {
     "data": {
      "text/plain": [
       "0.0"
      ]
     },
     "execution_count": 21,
     "metadata": {},
     "output_type": "execute_result"
    },
    {
     "data": {
      "text/plain": [
       "array([0, 1], dtype=int64)"
      ]
     },
     "execution_count": 21,
     "metadata": {},
     "output_type": "execute_result"
    }
   ],
   "source": [
    "# Fill in Open24Hours column's na values with it's median value\n",
    "mdf['Open24Hours'].median()\n",
    "mdf['Open24Hours'] = mdf['Open24Hours'].replace('NaN', 0)\n",
    "mdf['Open24Hours'].unique()"
   ]
  },
  {
   "cell_type": "code",
   "execution_count": 22,
   "metadata": {},
   "outputs": [
    {
     "data": {
      "text/plain": [
       "1.0"
      ]
     },
     "execution_count": 22,
     "metadata": {},
     "output_type": "execute_result"
    },
    {
     "data": {
      "text/plain": [
       "array([1, 0], dtype=int64)"
      ]
     },
     "execution_count": 22,
     "metadata": {},
     "output_type": "execute_result"
    }
   ],
   "source": [
    "# Fill in BikeParking column's na values with it's median value\n",
    "mdf['BikeParking'].median()\n",
    "mdf['BikeParking'] = mdf['BikeParking'].replace('NaN', 1)\n",
    "mdf['BikeParking'].unique()"
   ]
  },
  {
   "cell_type": "code",
   "execution_count": 23,
   "metadata": {},
   "outputs": [
    {
     "data": {
      "text/plain": [
       "1.0"
      ]
     },
     "execution_count": 23,
     "metadata": {},
     "output_type": "execute_result"
    },
    {
     "data": {
      "text/plain": [
       "array([1, 0], dtype=int64)"
      ]
     },
     "execution_count": 23,
     "metadata": {},
     "output_type": "execute_result"
    }
   ],
   "source": [
    "# Fill in Alcohol column's na values with it's median value\n",
    "mdf['Alcohol'].median()\n",
    "mdf['Alcohol'] = mdf['Alcohol'].replace('NaN', 1)\n",
    "mdf['Alcohol'].unique()"
   ]
  },
  {
   "cell_type": "code",
   "execution_count": 24,
   "metadata": {},
   "outputs": [
    {
     "data": {
      "text/plain": [
       "0.0"
      ]
     },
     "execution_count": 24,
     "metadata": {},
     "output_type": "execute_result"
    },
    {
     "data": {
      "text/plain": [
       "array([0, 1], dtype=int64)"
      ]
     },
     "execution_count": 24,
     "metadata": {},
     "output_type": "execute_result"
    }
   ],
   "source": [
    "# Fill in DogsAllowed column's na values with it's median value\n",
    "mdf['DogsAllowed'].median()\n",
    "mdf['DogsAllowed'] = mdf['DogsAllowed'].replace('NaN', 0)\n",
    "mdf['DogsAllowed'].unique()"
   ]
  },
  {
   "cell_type": "code",
   "execution_count": 25,
   "metadata": {},
   "outputs": [
    {
     "data": {
      "text/plain": [
       "array([1.0, 'Na', 0.0], dtype=object)"
      ]
     },
     "execution_count": 25,
     "metadata": {},
     "output_type": "execute_result"
    }
   ],
   "source": [
    "mdf['Parking'].unique()\n",
    "mdf.loc[mdf.Parking == 'Na', 'Parking'] = 'NaN'"
   ]
  },
  {
   "cell_type": "code",
   "execution_count": 26,
   "metadata": {},
   "outputs": [
    {
     "data": {
      "text/plain": [
       "1.0"
      ]
     },
     "execution_count": 26,
     "metadata": {},
     "output_type": "execute_result"
    },
    {
     "data": {
      "text/plain": [
       "array([1, 0], dtype=int64)"
      ]
     },
     "execution_count": 26,
     "metadata": {},
     "output_type": "execute_result"
    }
   ],
   "source": [
    "# Fill in Parking column's na values with it's median value, then turning it into integer to get rid of the dot \n",
    "mdf['Parking'].median()\n",
    "mdf['Parking'] = mdf['Parking'].replace('NaN', 1)\n",
    "mdf['Parking'] = (mdf['Parking']).astype(int)\n",
    "mdf['Parking'].unique()"
   ]
  },
  {
   "cell_type": "markdown",
   "metadata": {
    "collapsed": true
   },
   "source": [
    "############# Data Cleaning Ends Here #############"
   ]
  },
  {
   "cell_type": "markdown",
   "metadata": {},
   "source": [
    "# Part II: Analysis & 3 Key Findings\n",
    "\n",
    "## Finding 1: \n",
    "\n",
    "Restaurants have the lowest average rating out of all the business categories, suggesting that people may have higher expectations for restaurants compared to other types of businesses.  In addition, the number of reviews for a business is the most important factor for rating.\n"
   ]
  },
  {
   "cell_type": "markdown",
   "metadata": {},
   "source": [
    "First, let's see which business categories are the most common?"
   ]
  },
  {
   "cell_type": "code",
   "execution_count": 27,
   "metadata": {},
   "outputs": [
    {
     "data": {
      "text/html": [
       "<div>\n",
       "<style>\n",
       "    .dataframe thead tr:only-child th {\n",
       "        text-align: right;\n",
       "    }\n",
       "\n",
       "    .dataframe thead th {\n",
       "        text-align: left;\n",
       "    }\n",
       "\n",
       "    .dataframe tbody tr th {\n",
       "        vertical-align: top;\n",
       "    }\n",
       "</style>\n",
       "<table border=\"1\" class=\"dataframe\">\n",
       "  <thead>\n",
       "    <tr style=\"text-align: right;\">\n",
       "      <th></th>\n",
       "      <th>Category</th>\n",
       "      <th>Count</th>\n",
       "    </tr>\n",
       "  </thead>\n",
       "  <tbody>\n",
       "    <tr>\n",
       "      <th>0</th>\n",
       "      <td>Restaurants</td>\n",
       "      <td>17332</td>\n",
       "    </tr>\n",
       "    <tr>\n",
       "      <th>1</th>\n",
       "      <td>Food</td>\n",
       "      <td>6882</td>\n",
       "    </tr>\n",
       "    <tr>\n",
       "      <th>2</th>\n",
       "      <td>Shopping</td>\n",
       "      <td>6701</td>\n",
       "    </tr>\n",
       "    <tr>\n",
       "      <th>3</th>\n",
       "      <td>Beauty &amp; Spas</td>\n",
       "      <td>5134</td>\n",
       "    </tr>\n",
       "    <tr>\n",
       "      <th>4</th>\n",
       "      <td>Home Services</td>\n",
       "      <td>3883</td>\n",
       "    </tr>\n",
       "    <tr>\n",
       "      <th>5</th>\n",
       "      <td>Health &amp; Medical</td>\n",
       "      <td>3540</td>\n",
       "    </tr>\n",
       "    <tr>\n",
       "      <th>6</th>\n",
       "      <td>Nightlife</td>\n",
       "      <td>2608</td>\n",
       "    </tr>\n",
       "    <tr>\n",
       "      <th>7</th>\n",
       "      <td>Local Services</td>\n",
       "      <td>2497</td>\n",
       "    </tr>\n",
       "    <tr>\n",
       "      <th>8</th>\n",
       "      <td>Automotive</td>\n",
       "      <td>2367</td>\n",
       "    </tr>\n",
       "    <tr>\n",
       "      <th>9</th>\n",
       "      <td>Bars</td>\n",
       "      <td>2147</td>\n",
       "    </tr>\n",
       "  </tbody>\n",
       "</table>\n",
       "</div>"
      ],
      "text/plain": [
       "           Category  Count\n",
       "0       Restaurants  17332\n",
       "1              Food   6882\n",
       "2          Shopping   6701\n",
       "3     Beauty & Spas   5134\n",
       "4     Home Services   3883\n",
       "5  Health & Medical   3540\n",
       "6         Nightlife   2608\n",
       "7    Local Services   2497\n",
       "8        Automotive   2367\n",
       "9              Bars   2147"
      ]
     },
     "execution_count": 27,
     "metadata": {},
     "output_type": "execute_result"
    }
   ],
   "source": [
    "#get the counts of each business category:\n",
    "mdf['categories'] = mdf.categories.str.partition(';')\n",
    "\n",
    "x=mdf.categories.value_counts()\n",
    "x10 = x.head(10)   #because we just want to plot the 10 most popular categories\n",
    "\n",
    "\n",
    "#convert back to dataframe:\n",
    "x10 = x10.to_frame(name = 'count')\n",
    "\n",
    "#reset the index to convert categories to a column:\n",
    "x10.reset_index(level=0, inplace=True)\n",
    "\n",
    "x10.columns = ['Category', 'Count']\n",
    "x10"
   ]
  },
  {
   "cell_type": "markdown",
   "metadata": {},
   "source": [
    "We see that unsurprisingly, the number of restaurants far surpasses every other type of business on Yelp."
   ]
  },
  {
   "cell_type": "markdown",
   "metadata": {
    "collapsed": true
   },
   "source": [
    "Average number of reviews and and average ratings for each of these top 10 categories:"
   ]
  },
  {
   "cell_type": "code",
   "execution_count": 28,
   "metadata": {},
   "outputs": [
    {
     "data": {
      "text/plain": [
       "<seaborn.axisgrid.FacetGrid at 0x17f47030>"
      ]
     },
     "execution_count": 28,
     "metadata": {},
     "output_type": "execute_result"
    },
    {
     "data": {
      "image/png": "[encoded data removed]",
      "text/plain": [
       "<matplotlib.figure.Figure at 0x17f476d0>"
      ]
     },
     "metadata": {},
     "output_type": "display_data"
    }
   ],
   "source": [
    "sns.factorplot(x='stars',y='review_count',hue='Restaurants',data=mdf,\n",
    "              aspect =3)"
   ]
  },
  {
   "cell_type": "code",
   "execution_count": 29,
   "metadata": {},
   "outputs": [
    {
     "data": {
      "text/plain": [
       "3214770"
      ]
     },
     "execution_count": 29,
     "metadata": {},
     "output_type": "execute_result"
    }
   ],
   "source": [
    "mdf[mdf['Restaurants_dum'] == 1][\"review_count\"].sum()"
   ]
  },
  {
   "cell_type": "code",
   "execution_count": 30,
   "metadata": {},
   "outputs": [
    {
     "data": {
      "text/plain": [
       "377478"
      ]
     },
     "execution_count": 30,
     "metadata": {},
     "output_type": "execute_result"
    }
   ],
   "source": [
    "mdf[mdf['Shopping_dum'] == 1][\"review_count\"].sum()"
   ]
  },
  {
   "cell_type": "code",
   "execution_count": 31,
   "metadata": {},
   "outputs": [
    {
     "data": {
      "text/plain": [
       "172519"
      ]
     },
     "execution_count": 31,
     "metadata": {},
     "output_type": "execute_result"
    }
   ],
   "source": [
    "mdf[mdf['Health_dum'] == 1][\"review_count\"].sum()"
   ]
  },
  {
   "cell_type": "code",
   "execution_count": 32,
   "metadata": {},
   "outputs": [
    {
     "data": {
      "text/plain": [
       "875322"
      ]
     },
     "execution_count": 32,
     "metadata": {},
     "output_type": "execute_result"
    }
   ],
   "source": [
    "mdf[mdf['Nightlife_dum'] == 1][\"review_count\"].sum()"
   ]
  },
  {
   "cell_type": "code",
   "execution_count": 33,
   "metadata": {},
   "outputs": [
    {
     "data": {
      "text/plain": [
       "315099"
      ]
     },
     "execution_count": 33,
     "metadata": {},
     "output_type": "execute_result"
    }
   ],
   "source": [
    "mdf[mdf['Beauty_dum'] == 1][\"review_count\"].sum()"
   ]
  },
  {
   "cell_type": "code",
   "execution_count": 34,
   "metadata": {
    "collapsed": true
   },
   "outputs": [],
   "source": [
    "col1 = [\"Restaurants\", \"Shopping\", \"Health\", \"Nightlife\", \"Beauty\"]\n",
    "\n",
    "col2 = [3214770, 377478, 39487, 875322, 315099]\n",
    "\n",
    "mx = np.column_stack((col1, col2))"
   ]
  },
  {
   "cell_type": "code",
   "execution_count": 35,
   "metadata": {
    "collapsed": true
   },
   "outputs": [],
   "source": [
    "rev_count = pd.DataFrame(mx)\n",
    "\n",
    "rev_count.columns = [\"Category\", \"Total Reviews\"]\n",
    "\n",
    "rev_count[\"Total Reviews\"] = pd.to_numeric(rev_count[\"Total Reviews\"])"
   ]
  },
  {
   "cell_type": "code",
   "execution_count": 36,
   "metadata": {},
   "outputs": [
    {
     "data": {
      "text/plain": [
       "<matplotlib.axes._subplots.AxesSubplot at 0x17d56e50>"
      ]
     },
     "execution_count": 36,
     "metadata": {},
     "output_type": "execute_result"
    },
    {
     "data": {
      "image/png": "[encoded data removed]",
      "text/plain": [
       "<matplotlib.figure.Figure at 0x17c86c70>"
      ]
     },
     "metadata": {},
     "output_type": "display_data"
    }
   ],
   "source": [
    "sns.barplot(y = \"Total Reviews\", x = \"Category\", data = rev_count, palette = \"Paired\")"
   ]
  },
  {
   "cell_type": "markdown",
   "metadata": {
    "collapsed": true
   },
   "source": [
    "We can see the the number of reviews for restaurants is also much bigger than number of reviews for all the other categories of interest. This is not surprising since most people do use Yelp to find and rate restaurants."
   ]
  },
  {
   "cell_type": "code",
   "execution_count": 37,
   "metadata": {},
   "outputs": [
    {
     "data": {
      "text/plain": [
       "3.9546757762459586"
      ]
     },
     "execution_count": 37,
     "metadata": {},
     "output_type": "execute_result"
    },
    {
     "data": {
      "text/plain": [
       "3.8617270869598124"
      ]
     },
     "execution_count": 37,
     "metadata": {},
     "output_type": "execute_result"
    },
    {
     "data": {
      "text/plain": [
       "3.672145755128351"
      ]
     },
     "execution_count": 37,
     "metadata": {},
     "output_type": "execute_result"
    },
    {
     "data": {
      "text/plain": [
       "3.4613381297659864"
      ]
     },
     "execution_count": 37,
     "metadata": {},
     "output_type": "execute_result"
    },
    {
     "data": {
      "text/plain": [
       "3.541726315789474"
      ]
     },
     "execution_count": 37,
     "metadata": {},
     "output_type": "execute_result"
    }
   ],
   "source": [
    "##Average ratings (number of stars) for each category of interest:\n",
    "\n",
    "mdf[mdf['Beauty_dum'] == 1][\"stars\"].mean()\n",
    "\n",
    "mdf[mdf['Health_dum'] == 1][\"stars\"].mean()\n",
    "\n",
    "mdf[mdf['Shopping_dum'] == 1][\"stars\"].mean()\n",
    "\n",
    "mdf[mdf['Restaurants_dum'] == 1][\"stars\"].mean()\n",
    "\n",
    "mdf[mdf['Nightlife_dum'] == 1][\"stars\"].mean()"
   ]
  },
  {
   "cell_type": "code",
   "execution_count": 38,
   "metadata": {
    "collapsed": true
   },
   "outputs": [],
   "source": [
    "##Create small df for average ratings by category:\n",
    "\n",
    "col3 = [\"Restaurants\", \"Shopping\", \"Health\", \"Nightlife\", \"Beauty\"]\n",
    "\n",
    "col4 = [3.46, 3.67, 3.77, 3.54, 3.95]\n",
    "\n",
    "mx2 = np.column_stack((col3, col4))\n",
    "\n",
    "avg_rating = pd.DataFrame(mx2)\n",
    "\n",
    "avg_rating.columns = [\"Category\", \"Avg Rating\"]\n",
    "\n",
    "avg_rating[\"Avg Rating\"] = pd.to_numeric(avg_rating[\"Avg Rating\"])"
   ]
  },
  {
   "cell_type": "code",
   "execution_count": 39,
   "metadata": {},
   "outputs": [
    {
     "data": {
      "text/plain": [
       "<matplotlib.axes._subplots.AxesSubplot at 0x17d3e4f0>"
      ]
     },
     "execution_count": 39,
     "metadata": {},
     "output_type": "execute_result"
    },
    {
     "data": {
      "image/png": "[encoded data removed]",
      "text/plain": [
       "<matplotlib.figure.Figure at 0x177cbe10>"
      ]
     },
     "metadata": {},
     "output_type": "display_data"
    }
   ],
   "source": [
    "sns.barplot(y = \"Avg Rating\", x = \"Category\", data = avg_rating, palette = \"GnBu_d\")"
   ]
  },
  {
   "cell_type": "markdown",
   "metadata": {
    "collapsed": true
   },
   "source": [
    "The above finding is quite interesting, especially when we compare it to the plot of total review counts by category. We find that Restaurants has the lowest average rating, even though it has the most number of reviews by far. This suggests that maybe people have higher expectations for restaurants compared to other types of businesses.\n",
    "\n",
    "Are there any overall trends between the different variables? We can use corr() function and a heatmap to visualize trends:"
   ]
  },
  {
   "cell_type": "code",
   "execution_count": 40,
   "metadata": {
    "collapsed": true
   },
   "outputs": [],
   "source": [
    "corr = mdf.corr()"
   ]
  },
  {
   "cell_type": "code",
   "execution_count": 41,
   "metadata": {
    "scrolled": true
   },
   "outputs": [
    {
     "data": {
      "text/plain": [
       "<matplotlib.axes._subplots.AxesSubplot at 0x176eb390>"
      ]
     },
     "execution_count": 41,
     "metadata": {},
     "output_type": "execute_result"
    },
    {
     "data": {
      "image/png": "[encoded data removed]",
      "text/plain": [
       "<matplotlib.figure.Figure at 0x176c7a70>"
      ]
     },
     "metadata": {},
     "output_type": "display_data"
    }
   ],
   "source": [
    "sns.heatmap(corr, annot = False, cmap = \"GnBu\", linewidths = 0.1)"
   ]
  },
  {
   "cell_type": "markdown",
   "metadata": {
    "collapsed": true
   },
   "source": [
    "Here we see several positive correlations (blue):\n",
    "\n",
    "    Restaurants and review count\n",
    "    Stars and Accepts Credit Cards\n",
    "    Restaurants and Dogs Allowed\n",
    "    Health-related business and Accepts Credit Cards\n",
    "\n",
    "And also some negative correlations (yellow-green):\n",
    "\n",
    "    Shopping and Restaurants\n",
    "    Restaurants and Parking -- this one is surprising! Perhaps many restaurants are in metropolitan areas where there's limited parking.\n",
    "    \n",
    "These correlations may provide insight to a business on the types of attributes that competitors (such as other restaurants) are offering.\n",
    "    "
   ]
  },
  {
   "cell_type": "code",
   "execution_count": 42,
   "metadata": {},
   "outputs": [
    {
     "data": {
      "text/plain": [
       "[<matplotlib.text.Text at 0x1769e5b0>,\n",
       " <matplotlib.text.Text at 0x19c63670>,\n",
       " <matplotlib.text.Text at 0x1752e110>,\n",
       " <matplotlib.text.Text at 0x17527470>,\n",
       " <matplotlib.text.Text at 0x175244d0>,\n",
       " <matplotlib.text.Text at 0x1751c690>,\n",
       " <matplotlib.text.Text at 0x17515630>,\n",
       " <matplotlib.text.Text at 0x175116d0>,\n",
       " <matplotlib.text.Text at 0x1750b8d0>,\n",
       " <matplotlib.text.Text at 0x17506b70>]"
      ]
     },
     "execution_count": 42,
     "metadata": {},
     "output_type": "execute_result"
    },
    {
     "data": {
      "text/plain": [
       "<matplotlib.text.Text at 0x19c59dd0>"
      ]
     },
     "execution_count": 42,
     "metadata": {},
     "output_type": "execute_result"
    },
    {
     "data": {
      "image/png": "[encoded data removed]",
      "text/plain": [
       "<matplotlib.figure.Figure at 0x176d86b0>"
      ]
     },
     "metadata": {},
     "output_type": "display_data"
    }
   ],
   "source": [
    "#get the top 10 cities with most number of businesses:\n",
    "cities = mdf.groupby(\"city\")[\"business_id\"].count().sort_values(ascending = False).head(10)\n",
    "\n",
    "city = cities.index\n",
    "num_businesses = cities.get_values()\n",
    "\n",
    "#convert matrix to df:\n",
    "mx1 = np.column_stack((city, num_businesses))\n",
    "cities10 = pd.DataFrame(mx1)\n",
    "cities10.columns = [\"City\", \"Num_businesses\"]\n",
    "\n",
    "\n",
    "p = sns.barplot(y = \"Num_businesses\", x = \"City\", data = cities10, palette = \"Set3_d\")\n",
    "\n",
    "p.set_xticklabels(p.get_xticklabels(), rotation=45)\n",
    "p.set_title('Overall Business Locations')"
   ]
  },
  {
   "cell_type": "code",
   "execution_count": 43,
   "metadata": {},
   "outputs": [
    {
     "data": {
      "text/plain": [
       "[<matplotlib.text.Text at 0x174b0190>,\n",
       " <matplotlib.text.Text at 0x174a4110>,\n",
       " <matplotlib.text.Text at 0x1740f6b0>,\n",
       " <matplotlib.text.Text at 0x1740b9d0>,\n",
       " <matplotlib.text.Text at 0x17405d50>,\n",
       " <matplotlib.text.Text at 0x174050b0>,\n",
       " <matplotlib.text.Text at 0x174002f0>,\n",
       " <matplotlib.text.Text at 0x173fa3d0>,\n",
       " <matplotlib.text.Text at 0x173f3430>,\n",
       " <matplotlib.text.Text at 0x173ed070>]"
      ]
     },
     "execution_count": 43,
     "metadata": {},
     "output_type": "execute_result"
    },
    {
     "data": {
      "text/plain": [
       "<matplotlib.text.Text at 0x174bf9f0>"
      ]
     },
     "execution_count": 43,
     "metadata": {},
     "output_type": "execute_result"
    },
    {
     "data": {
      "image/png": "[encoded data removed]",
      "text/plain": [
       "<matplotlib.figure.Figure at 0x174f6b50>"
      ]
     },
     "metadata": {},
     "output_type": "display_data"
    }
   ],
   "source": [
    "#create df with restaurants only:\n",
    "mdfr = mdf[mdf['Restaurants_dum'] == 1]\n",
    "\n",
    "#get the top 10 cities with most number of restaurants:\n",
    "cities = mdfr.groupby(\"city\")[\"business_id\"].count().sort_values(ascending = False).head(10)\n",
    "\n",
    "city = cities.index\n",
    "num_rest = cities.get_values()\n",
    "\n",
    "#convert matrix to df:\n",
    "mx2 = np.column_stack((city, num_rest))\n",
    "cities10 = pd.DataFrame(mx2)\n",
    "cities10.columns = [\"City\", \"Num_restaurants\"]\n",
    "\n",
    "\n",
    "p = sns.barplot(y = \"Num_restaurants\", x = \"City\", data = cities10, palette = \"Set3\")\n",
    "\n",
    "p.set_xticklabels(p.get_xticklabels(), rotation=45)\n",
    "p.set_title('Restaurant Locations')"
   ]
  },
  {
   "cell_type": "markdown",
   "metadata": {},
   "source": [
    "Las Vegas, Toronto, and Phoenix have the greatest number of both total businesses and restaurants. These are also all major metropolitan cities so that makes sense.  Interestingly, Toronto has more restaurants than Vegas, but Vegas has more total businesses.  This suggests that Vegas has a more diverse range of businesses."
   ]
  },
  {
   "cell_type": "markdown",
   "metadata": {
    "collapsed": true
   },
   "source": [
    "### **Machine Learning for Finding 1: Decision Trees**\n",
    "\n",
    "We will create a decision tree to validate or refute our findings from general analysis above, and also identify which factors contribute most to whether a business has a high or low rating."
   ]
  },
  {
   "cell_type": "code",
   "execution_count": 44,
   "metadata": {
    "collapsed": true
   },
   "outputs": [],
   "source": [
    "#create dataframe specifically for the decision tree (because we don't need to \n",
    "#include a lot of the columns as X variables, we can only use columns with numeric values):\n",
    "\n",
    "mldf = mdf[[\"review_count\", \"is_open\", \"Restaurants\", \"Health\", \"Shopping\", \"Nightlife\", \"Beauty\", \"Parking\", \"Open24Hours\", \"BusinessAcceptsCreditCards\", \"BikeParking\", \"Alcohol\", \"stars_dum\"]]"
   ]
  },
  {
   "cell_type": "code",
   "execution_count": 45,
   "metadata": {
    "collapsed": true
   },
   "outputs": [],
   "source": [
    "dt = tree.DecisionTreeClassifier(max_depth=3)"
   ]
  },
  {
   "cell_type": "code",
   "execution_count": 46,
   "metadata": {
    "collapsed": true
   },
   "outputs": [],
   "source": [
    "#Make X & Y for decision tree\n",
    "\n",
    "X=mldf.drop('stars_dum',axis=1)\n",
    "Y =mldf['stars_dum']"
   ]
  },
  {
   "cell_type": "code",
   "execution_count": 47,
   "metadata": {},
   "outputs": [
    {
     "data": {
      "text/plain": [
       "DecisionTreeClassifier(class_weight=None, criterion='gini', max_depth=3,\n",
       "            max_features=None, max_leaf_nodes=None,\n",
       "            min_impurity_decrease=0.0, min_impurity_split=None,\n",
       "            min_samples_leaf=1, min_samples_split=2,\n",
       "            min_weight_fraction_leaf=0.0, presort=False, random_state=None,\n",
       "            splitter='best')"
      ]
     },
     "execution_count": 47,
     "metadata": {},
     "output_type": "execute_result"
    }
   ],
   "source": [
    "dt.fit(X,Y)"
   ]
  },
  {
   "cell_type": "code",
   "execution_count": 48,
   "metadata": {},
   "outputs": [
    {
     "data": {
      "image/png": "[encoded data removed]",
      "text/plain": [
       "<IPython.core.display.Image object>"
      ]
     },
     "execution_count": 48,
     "metadata": {},
     "output_type": "execute_result"
    }
   ],
   "source": [
    "# This code will visualize a decision tree dt, trained with the attributes in X and the class labels in Y\n",
    "dt_feature_names = list([\"review_count\", \"is_open\", \"Restaurants\", \"Health\", \"Shopping\", \"Nightlife\", \"Beauty\", \"Parking\", \"Open24Hours\", \"BusinessAcceptsCreditCards\", \"BikeParking\", \"Alcohol\"])\n",
    "dt_target_names = np.array(Y.unique(),dtype=np.string_) \n",
    "tree.export_graphviz(dt, out_file='tree.dot', \n",
    "    feature_names=dt_feature_names, class_names=dt_target_names, filled = True)\n",
    "graph = pydotplus.graph_from_dot_file('tree.dot')\n",
    "Image(graph.create_png()) \n"
   ]
  },
  {
   "cell_type": "markdown",
   "metadata": {
    "collapsed": true
   },
   "source": [
    "**What does the decision tree tell us?**\n",
    "\n",
    "1. Whether the business is a restaurant or not is the most defining factor for ratings, since it splits the tree at the first level. This validates what we saw visually in the seaborn graph above showing the breakdown of different business categories. This also guided our next steps in analysis, in which we decided to focus specifically on restaurant businesses.\n",
    "\n",
    "2. A more interesting finding is that if the business is not a restaurant, the data is split by review count <= 3.5. This is a really low number of reviews, suggesting that people tend to review restaurants much more than they review other types of businesses on Yelp."
   ]
  },
  {
   "cell_type": "markdown",
   "metadata": {
    "collapsed": true
   },
   "source": [
    "## Finding 2: Analyze restaurant tips and predict ratings\n",
    "\n",
    "Since in the first finding we have seen that restaurants are most reviewed business, we want focus our remaining analysis on restaurants specifically.\n",
    "\n",
    "We found that in addition to number of reviews, the tips that customers leave for restaurants on Yelp are very important for their ratings. This is shown by creating and using the new sentiment dummy (positive/negative) below.  **This sentiment represents the overall sentiment (positive or negative) of all the tips for each restaurant.**\n"
   ]
  },
  {
   "cell_type": "markdown",
   "metadata": {},
   "source": [
    "**1. To analyse further, we merged two more datasets : yelp_checkin and yelp tip**\n",
    "\n",
    "Yelp _checkin data_ set has number of checkins in each day of the week. Yelp _tip data_ has mainly tip comments of different users for business ids.\n",
    "\n",
    "For yelp_checkin, each row represents a business, whereas the columns report:\n",
    "\n",
    "    business_id: unique business_id\n",
    "    weekday: day of the week\n",
    "    hour: time of the day\n",
    "    checkins: number of checkin each day\n",
    "\n",
    "For yelp_checkin, each row represents a business, whereas the columns report:\n",
    "\n",
    "    text: tip comment\n",
    "    date\n",
    "    likes: number of likes\n",
    "    business_id: unique business_id\n",
    "    user_id: unique business_id"
   ]
  },
  {
   "cell_type": "code",
   "execution_count": 49,
   "metadata": {
    "collapsed": true
   },
   "outputs": [],
   "source": [
    "checkin = pd.read_csv(\"yelp_checkin.csv\")"
   ]
  },
  {
   "cell_type": "code",
   "execution_count": 50,
   "metadata": {},
   "outputs": [
    {
     "data": {
      "text/html": [
       "<div>\n",
       "<style>\n",
       "    .dataframe thead tr:only-child th {\n",
       "        text-align: right;\n",
       "    }\n",
       "\n",
       "    .dataframe thead th {\n",
       "        text-align: left;\n",
       "    }\n",
       "\n",
       "    .dataframe tbody tr th {\n",
       "        vertical-align: top;\n",
       "    }\n",
       "</style>\n",
       "<table border=\"1\" class=\"dataframe\">\n",
       "  <thead>\n",
       "    <tr style=\"text-align: right;\">\n",
       "      <th></th>\n",
       "      <th>business_id</th>\n",
       "      <th>checkins</th>\n",
       "    </tr>\n",
       "  </thead>\n",
       "  <tbody>\n",
       "    <tr>\n",
       "      <th>0</th>\n",
       "      <td>--6MefnULPED_I942VcFNA</td>\n",
       "      <td>139</td>\n",
       "    </tr>\n",
       "    <tr>\n",
       "      <th>1</th>\n",
       "      <td>--7zmmkVg-IMGaXbuVd0SQ</td>\n",
       "      <td>153</td>\n",
       "    </tr>\n",
       "    <tr>\n",
       "      <th>2</th>\n",
       "      <td>--8LPVSo5i0Oo61X01sV9A</td>\n",
       "      <td>1</td>\n",
       "    </tr>\n",
       "    <tr>\n",
       "      <th>3</th>\n",
       "      <td>--9QQLMTbFzLJ_oT-ON3Xw</td>\n",
       "      <td>33</td>\n",
       "    </tr>\n",
       "    <tr>\n",
       "      <th>4</th>\n",
       "      <td>--9e1ONYQuAa-CB_Rrw7Tw</td>\n",
       "      <td>2568</td>\n",
       "    </tr>\n",
       "    <tr>\n",
       "      <th>5</th>\n",
       "      <td>--DaPTJW3-tB1vP-PfdTEg</td>\n",
       "      <td>89</td>\n",
       "    </tr>\n",
       "    <tr>\n",
       "      <th>6</th>\n",
       "      <td>--DdmeR16TRb3LsjG0ejrQ</td>\n",
       "      <td>30</td>\n",
       "    </tr>\n",
       "    <tr>\n",
       "      <th>7</th>\n",
       "      <td>--EX4rRznJrltyn-34Jz1w</td>\n",
       "      <td>12</td>\n",
       "    </tr>\n",
       "    <tr>\n",
       "      <th>8</th>\n",
       "      <td>--FBCX-N37CMYDfs790Bnw</td>\n",
       "      <td>490</td>\n",
       "    </tr>\n",
       "    <tr>\n",
       "      <th>9</th>\n",
       "      <td>--FLdgM0GNpXVMn74ppCGw</td>\n",
       "      <td>14</td>\n",
       "    </tr>\n",
       "  </tbody>\n",
       "</table>\n",
       "</div>"
      ],
      "text/plain": [
       "              business_id  checkins\n",
       "0  --6MefnULPED_I942VcFNA       139\n",
       "1  --7zmmkVg-IMGaXbuVd0SQ       153\n",
       "2  --8LPVSo5i0Oo61X01sV9A         1\n",
       "3  --9QQLMTbFzLJ_oT-ON3Xw        33\n",
       "4  --9e1ONYQuAa-CB_Rrw7Tw      2568\n",
       "5  --DaPTJW3-tB1vP-PfdTEg        89\n",
       "6  --DdmeR16TRb3LsjG0ejrQ        30\n",
       "7  --EX4rRznJrltyn-34Jz1w        12\n",
       "8  --FBCX-N37CMYDfs790Bnw       490\n",
       "9  --FLdgM0GNpXVMn74ppCGw        14"
      ]
     },
     "execution_count": 50,
     "metadata": {},
     "output_type": "execute_result"
    }
   ],
   "source": [
    "#1. Create a new df with total checkin count for each business id \n",
    "checkin1=checkin.groupby(['business_id'],as_index=False)['checkins'].sum()\n",
    "checkin1.head(10)"
   ]
  },
  {
   "cell_type": "code",
   "execution_count": 51,
   "metadata": {},
   "outputs": [],
   "source": [
    "tip = pd.read_csv(\"yelp_tip.csv\")"
   ]
  },
  {
   "cell_type": "code",
   "execution_count": 52,
   "metadata": {},
   "outputs": [
    {
     "data": {
      "text/html": [
       "<div>\n",
       "<style>\n",
       "    .dataframe thead tr:only-child th {\n",
       "        text-align: right;\n",
       "    }\n",
       "\n",
       "    .dataframe thead th {\n",
       "        text-align: left;\n",
       "    }\n",
       "\n",
       "    .dataframe tbody tr th {\n",
       "        vertical-align: top;\n",
       "    }\n",
       "</style>\n",
       "<table border=\"1\" class=\"dataframe\">\n",
       "  <thead>\n",
       "    <tr style=\"text-align: right;\">\n",
       "      <th></th>\n",
       "      <th>text</th>\n",
       "      <th>date</th>\n",
       "      <th>likes</th>\n",
       "      <th>business_id</th>\n",
       "      <th>user_id</th>\n",
       "    </tr>\n",
       "  </thead>\n",
       "  <tbody>\n",
       "    <tr>\n",
       "      <th>0</th>\n",
       "      <td>Great breakfast large portions and friendly wa...</td>\n",
       "      <td>2015-08-12</td>\n",
       "      <td>0</td>\n",
       "      <td>jH19V2I9fIslnNhDzPmdkA</td>\n",
       "      <td>ZcLKXikTHYOnYt5VYRO5sg</td>\n",
       "    </tr>\n",
       "    <tr>\n",
       "      <th>1</th>\n",
       "      <td>Nice place. Great staff.  A fixture in the tow...</td>\n",
       "      <td>2014-06-20</td>\n",
       "      <td>0</td>\n",
       "      <td>dAa0hB2yrnHzVmsCkN4YvQ</td>\n",
       "      <td>oaYhjqBbh18ZhU0bpyzSuw</td>\n",
       "    </tr>\n",
       "    <tr>\n",
       "      <th>2</th>\n",
       "      <td>Happy hour 5-7 Monday - Friday</td>\n",
       "      <td>2016-10-12</td>\n",
       "      <td>0</td>\n",
       "      <td>dAa0hB2yrnHzVmsCkN4YvQ</td>\n",
       "      <td>ulQ8Nyj7jCUR8M83SUMoRQ</td>\n",
       "    </tr>\n",
       "    <tr>\n",
       "      <th>3</th>\n",
       "      <td>Parking is a premium, keep circling, you will ...</td>\n",
       "      <td>2017-01-28</td>\n",
       "      <td>0</td>\n",
       "      <td>ESzO3Av0b1_TzKOiqzbQYQ</td>\n",
       "      <td>ulQ8Nyj7jCUR8M83SUMoRQ</td>\n",
       "    </tr>\n",
       "    <tr>\n",
       "      <th>4</th>\n",
       "      <td>Homemade pasta is the best in the area</td>\n",
       "      <td>2017-02-25</td>\n",
       "      <td>0</td>\n",
       "      <td>k7WRPbDd7rztjHcGGkEjlw</td>\n",
       "      <td>ulQ8Nyj7jCUR8M83SUMoRQ</td>\n",
       "    </tr>\n",
       "  </tbody>\n",
       "</table>\n",
       "</div>"
      ],
      "text/plain": [
       "                                                text        date  likes  \\\n",
       "0  Great breakfast large portions and friendly wa...  2015-08-12      0   \n",
       "1  Nice place. Great staff.  A fixture in the tow...  2014-06-20      0   \n",
       "2                     Happy hour 5-7 Monday - Friday  2016-10-12      0   \n",
       "3  Parking is a premium, keep circling, you will ...  2017-01-28      0   \n",
       "4             Homemade pasta is the best in the area  2017-02-25      0   \n",
       "\n",
       "              business_id                 user_id  \n",
       "0  jH19V2I9fIslnNhDzPmdkA  ZcLKXikTHYOnYt5VYRO5sg  \n",
       "1  dAa0hB2yrnHzVmsCkN4YvQ  oaYhjqBbh18ZhU0bpyzSuw  \n",
       "2  dAa0hB2yrnHzVmsCkN4YvQ  ulQ8Nyj7jCUR8M83SUMoRQ  \n",
       "3  ESzO3Av0b1_TzKOiqzbQYQ  ulQ8Nyj7jCUR8M83SUMoRQ  \n",
       "4  k7WRPbDd7rztjHcGGkEjlw  ulQ8Nyj7jCUR8M83SUMoRQ  "
      ]
     },
     "execution_count": 52,
     "metadata": {},
     "output_type": "execute_result"
    }
   ],
   "source": [
    "tip.head(5)"
   ]
  },
  {
   "cell_type": "markdown",
   "metadata": {},
   "source": [
    "### Creating Sentiment Dummies for Yelp Restaurant Tips:\n",
    "\n",
    "Getting positive and negative tip comment from tip text"
   ]
  },
  {
   "cell_type": "code",
   "execution_count": 53,
   "metadata": {
    "collapsed": true
   },
   "outputs": [],
   "source": [
    "positive_words, negative_words = {}, {}             "
   ]
  },
  {
   "cell_type": "code",
   "execution_count": 54,
   "metadata": {
    "collapsed": true
   },
   "outputs": [],
   "source": [
    "def load_positive_words(file_name):                                   \n",
    "    with open(file_name) as f:\n",
    "        for word in f:\n",
    "            word = word.strip()\n",
    "            positive_words[word.upper()] = \"\"\n",
    "\n",
    "def load_negative_words(file_name):\n",
    "    with open(file_name) as f:\n",
    "        for word in f:\n",
    "            word = word.strip()\n",
    "            negative_words[word.upper()] = \"\""
   ]
  },
  {
   "cell_type": "code",
   "execution_count": 55,
   "metadata": {},
   "outputs": [],
   "source": [
    "#load_words('stopwords',stop_words)\n",
    "\n",
    "load_positive_words('positive-words.txt')\n",
    "load_negative_words('negative-words.txt')"
   ]
  },
  {
   "cell_type": "code",
   "execution_count": 56,
   "metadata": {
    "collapsed": true
   },
   "outputs": [],
   "source": [
    "def apply_func(col_value, words):\n",
    "    word_count = 0\n",
    "    try:\n",
    "        for item in col_value.split():          \n",
    "            if item.upper() in words:\n",
    "                word_count+=1\n",
    "    except:\n",
    "        word_count =0\n",
    "        \n",
    "    return word_count"
   ]
  },
  {
   "cell_type": "code",
   "execution_count": 57,
   "metadata": {},
   "outputs": [],
   "source": [
    "#make a dummy column for positive or negative overall tip sentiment\n",
    "\n",
    "tip['pos_tip_comment'] = tip.text.apply(apply_func, args=(positive_words,))\n",
    "tip['neg_tip_comment'] = tip.text.apply(apply_func, args=(negative_words,))"
   ]
  },
  {
   "cell_type": "code",
   "execution_count": 58,
   "metadata": {},
   "outputs": [
    {
     "data": {
      "text/html": [
       "<div>\n",
       "<style>\n",
       "    .dataframe thead tr:only-child th {\n",
       "        text-align: right;\n",
       "    }\n",
       "\n",
       "    .dataframe thead th {\n",
       "        text-align: left;\n",
       "    }\n",
       "\n",
       "    .dataframe tbody tr th {\n",
       "        vertical-align: top;\n",
       "    }\n",
       "</style>\n",
       "<table border=\"1\" class=\"dataframe\">\n",
       "  <thead>\n",
       "    <tr style=\"text-align: right;\">\n",
       "      <th></th>\n",
       "      <th>text</th>\n",
       "      <th>date</th>\n",
       "      <th>likes</th>\n",
       "      <th>business_id</th>\n",
       "      <th>user_id</th>\n",
       "      <th>pos_tip_comment</th>\n",
       "      <th>neg_tip_comment</th>\n",
       "    </tr>\n",
       "  </thead>\n",
       "  <tbody>\n",
       "    <tr>\n",
       "      <th>0</th>\n",
       "      <td>Great breakfast large portions and friendly wa...</td>\n",
       "      <td>2015-08-12</td>\n",
       "      <td>0</td>\n",
       "      <td>jH19V2I9fIslnNhDzPmdkA</td>\n",
       "      <td>ZcLKXikTHYOnYt5VYRO5sg</td>\n",
       "      <td>3</td>\n",
       "      <td>0</td>\n",
       "    </tr>\n",
       "    <tr>\n",
       "      <th>1</th>\n",
       "      <td>Nice place. Great staff.  A fixture in the tow...</td>\n",
       "      <td>2014-06-20</td>\n",
       "      <td>0</td>\n",
       "      <td>dAa0hB2yrnHzVmsCkN4YvQ</td>\n",
       "      <td>oaYhjqBbh18ZhU0bpyzSuw</td>\n",
       "      <td>2</td>\n",
       "      <td>0</td>\n",
       "    </tr>\n",
       "    <tr>\n",
       "      <th>2</th>\n",
       "      <td>Happy hour 5-7 Monday - Friday</td>\n",
       "      <td>2016-10-12</td>\n",
       "      <td>0</td>\n",
       "      <td>dAa0hB2yrnHzVmsCkN4YvQ</td>\n",
       "      <td>ulQ8Nyj7jCUR8M83SUMoRQ</td>\n",
       "      <td>1</td>\n",
       "      <td>0</td>\n",
       "    </tr>\n",
       "    <tr>\n",
       "      <th>3</th>\n",
       "      <td>Parking is a premium, keep circling, you will ...</td>\n",
       "      <td>2017-01-28</td>\n",
       "      <td>0</td>\n",
       "      <td>ESzO3Av0b1_TzKOiqzbQYQ</td>\n",
       "      <td>ulQ8Nyj7jCUR8M83SUMoRQ</td>\n",
       "      <td>1</td>\n",
       "      <td>0</td>\n",
       "    </tr>\n",
       "    <tr>\n",
       "      <th>4</th>\n",
       "      <td>Homemade pasta is the best in the area</td>\n",
       "      <td>2017-02-25</td>\n",
       "      <td>0</td>\n",
       "      <td>k7WRPbDd7rztjHcGGkEjlw</td>\n",
       "      <td>ulQ8Nyj7jCUR8M83SUMoRQ</td>\n",
       "      <td>1</td>\n",
       "      <td>0</td>\n",
       "    </tr>\n",
       "  </tbody>\n",
       "</table>\n",
       "</div>"
      ],
      "text/plain": [
       "                                                text        date  likes  \\\n",
       "0  Great breakfast large portions and friendly wa...  2015-08-12      0   \n",
       "1  Nice place. Great staff.  A fixture in the tow...  2014-06-20      0   \n",
       "2                     Happy hour 5-7 Monday - Friday  2016-10-12      0   \n",
       "3  Parking is a premium, keep circling, you will ...  2017-01-28      0   \n",
       "4             Homemade pasta is the best in the area  2017-02-25      0   \n",
       "\n",
       "              business_id                 user_id  pos_tip_comment  \\\n",
       "0  jH19V2I9fIslnNhDzPmdkA  ZcLKXikTHYOnYt5VYRO5sg                3   \n",
       "1  dAa0hB2yrnHzVmsCkN4YvQ  oaYhjqBbh18ZhU0bpyzSuw                2   \n",
       "2  dAa0hB2yrnHzVmsCkN4YvQ  ulQ8Nyj7jCUR8M83SUMoRQ                1   \n",
       "3  ESzO3Av0b1_TzKOiqzbQYQ  ulQ8Nyj7jCUR8M83SUMoRQ                1   \n",
       "4  k7WRPbDd7rztjHcGGkEjlw  ulQ8Nyj7jCUR8M83SUMoRQ                1   \n",
       "\n",
       "   neg_tip_comment  \n",
       "0                0  \n",
       "1                0  \n",
       "2                0  \n",
       "3                0  \n",
       "4                0  "
      ]
     },
     "execution_count": 58,
     "metadata": {},
     "output_type": "execute_result"
    }
   ],
   "source": [
    "tip.head(5)"
   ]
  },
  {
   "cell_type": "markdown",
   "metadata": {},
   "source": [
    "**Create new dataframe with total postive and negative tip keywords for each business_id:**"
   ]
  },
  {
   "cell_type": "code",
   "execution_count": 59,
   "metadata": {},
   "outputs": [
    {
     "data": {
      "text/html": [
       "<div>\n",
       "<style>\n",
       "    .dataframe thead tr:only-child th {\n",
       "        text-align: right;\n",
       "    }\n",
       "\n",
       "    .dataframe thead th {\n",
       "        text-align: left;\n",
       "    }\n",
       "\n",
       "    .dataframe tbody tr th {\n",
       "        vertical-align: top;\n",
       "    }\n",
       "</style>\n",
       "<table border=\"1\" class=\"dataframe\">\n",
       "  <thead>\n",
       "    <tr style=\"text-align: right;\">\n",
       "      <th></th>\n",
       "      <th>business_id</th>\n",
       "      <th>neg_tip_comment</th>\n",
       "      <th>likes</th>\n",
       "      <th>pos_tip_comment</th>\n",
       "    </tr>\n",
       "  </thead>\n",
       "  <tbody>\n",
       "    <tr>\n",
       "      <th>0</th>\n",
       "      <td>--6MefnULPED_I942VcFNA</td>\n",
       "      <td>1</td>\n",
       "      <td>0</td>\n",
       "      <td>3</td>\n",
       "    </tr>\n",
       "    <tr>\n",
       "      <th>1</th>\n",
       "      <td>--7zmmkVg-IMGaXbuVd0SQ</td>\n",
       "      <td>1</td>\n",
       "      <td>0</td>\n",
       "      <td>8</td>\n",
       "    </tr>\n",
       "    <tr>\n",
       "      <th>2</th>\n",
       "      <td>--9QQLMTbFzLJ_oT-ON3Xw</td>\n",
       "      <td>2</td>\n",
       "      <td>0</td>\n",
       "      <td>4</td>\n",
       "    </tr>\n",
       "    <tr>\n",
       "      <th>3</th>\n",
       "      <td>--9e1ONYQuAa-CB_Rrw7Tw</td>\n",
       "      <td>24</td>\n",
       "      <td>3</td>\n",
       "      <td>121</td>\n",
       "    </tr>\n",
       "    <tr>\n",
       "      <th>4</th>\n",
       "      <td>--DaPTJW3-tB1vP-PfdTEg</td>\n",
       "      <td>0</td>\n",
       "      <td>0</td>\n",
       "      <td>3</td>\n",
       "    </tr>\n",
       "  </tbody>\n",
       "</table>\n",
       "</div>"
      ],
      "text/plain": [
       "              business_id  neg_tip_comment  likes  pos_tip_comment\n",
       "0  --6MefnULPED_I942VcFNA                1      0                3\n",
       "1  --7zmmkVg-IMGaXbuVd0SQ                1      0                8\n",
       "2  --9QQLMTbFzLJ_oT-ON3Xw                2      0                4\n",
       "3  --9e1ONYQuAa-CB_Rrw7Tw               24      3              121\n",
       "4  --DaPTJW3-tB1vP-PfdTEg                0      0                3"
      ]
     },
     "execution_count": 59,
     "metadata": {},
     "output_type": "execute_result"
    }
   ],
   "source": [
    "tip1= tip.groupby(['business_id'],as_index=False).agg({'likes':'sum','pos_tip_comment':'sum','neg_tip_comment':'sum'})\n",
    "tip1.head(5)"
   ]
  },
  {
   "cell_type": "markdown",
   "metadata": {},
   "source": [
    "### Merging aggregated tip and checkin dataset to master df"
   ]
  },
  {
   "cell_type": "code",
   "execution_count": 60,
   "metadata": {
    "collapsed": true
   },
   "outputs": [],
   "source": [
    "mdf1= mdf.merge(checkin1, left_on = \"business_id\", right_on = \"business_id\")"
   ]
  },
  {
   "cell_type": "code",
   "execution_count": 61,
   "metadata": {
    "collapsed": true
   },
   "outputs": [],
   "source": [
    "mdf2= mdf1.merge(tip1, left_on = \"business_id\", right_on = \"business_id\")"
   ]
  },
  {
   "cell_type": "code",
   "execution_count": 62,
   "metadata": {},
   "outputs": [
    {
     "data": {
      "text/html": [
       "<div>\n",
       "<style>\n",
       "    .dataframe thead tr:only-child th {\n",
       "        text-align: right;\n",
       "    }\n",
       "\n",
       "    .dataframe thead th {\n",
       "        text-align: left;\n",
       "    }\n",
       "\n",
       "    .dataframe tbody tr th {\n",
       "        vertical-align: top;\n",
       "    }\n",
       "</style>\n",
       "<table border=\"1\" class=\"dataframe\">\n",
       "  <thead>\n",
       "    <tr style=\"text-align: right;\">\n",
       "      <th></th>\n",
       "      <th>business_id</th>\n",
       "      <th>name</th>\n",
       "      <th>city</th>\n",
       "      <th>state</th>\n",
       "      <th>postal_code</th>\n",
       "      <th>latitude</th>\n",
       "      <th>longitude</th>\n",
       "      <th>stars</th>\n",
       "      <th>review_count</th>\n",
       "      <th>is_open</th>\n",
       "      <th>...</th>\n",
       "      <th>Shopping</th>\n",
       "      <th>Shopping_dum</th>\n",
       "      <th>Beauty</th>\n",
       "      <th>Beauty_dum</th>\n",
       "      <th>Nightlife</th>\n",
       "      <th>Nightlife_dum</th>\n",
       "      <th>checkins</th>\n",
       "      <th>neg_tip_comment</th>\n",
       "      <th>likes</th>\n",
       "      <th>pos_tip_comment</th>\n",
       "    </tr>\n",
       "  </thead>\n",
       "  <tbody>\n",
       "    <tr>\n",
       "      <th>0</th>\n",
       "      <td>FYWN1wneV18bWNgQjJ2GNg</td>\n",
       "      <td>\"Dental by Design\"</td>\n",
       "      <td>Ahwatukee</td>\n",
       "      <td>AZ</td>\n",
       "      <td>85044</td>\n",
       "      <td>33.330690</td>\n",
       "      <td>-111.978599</td>\n",
       "      <td>4.0</td>\n",
       "      <td>22</td>\n",
       "      <td>1</td>\n",
       "      <td>...</td>\n",
       "      <td>False</td>\n",
       "      <td>0.0</td>\n",
       "      <td>False</td>\n",
       "      <td>0.0</td>\n",
       "      <td>False</td>\n",
       "      <td>0.0</td>\n",
       "      <td>39</td>\n",
       "      <td>0</td>\n",
       "      <td>0</td>\n",
       "      <td>6</td>\n",
       "    </tr>\n",
       "    <tr>\n",
       "      <th>1</th>\n",
       "      <td>He-G7vWjzVUysIKrfNbPUQ</td>\n",
       "      <td>\"Stephen Szabo Salon\"</td>\n",
       "      <td>McMurray</td>\n",
       "      <td>PA</td>\n",
       "      <td>15317</td>\n",
       "      <td>40.291685</td>\n",
       "      <td>-80.104900</td>\n",
       "      <td>3.0</td>\n",
       "      <td>11</td>\n",
       "      <td>1</td>\n",
       "      <td>...</td>\n",
       "      <td>False</td>\n",
       "      <td>0.0</td>\n",
       "      <td>True</td>\n",
       "      <td>1.0</td>\n",
       "      <td>False</td>\n",
       "      <td>0.0</td>\n",
       "      <td>15</td>\n",
       "      <td>0</td>\n",
       "      <td>0</td>\n",
       "      <td>1</td>\n",
       "    </tr>\n",
       "    <tr>\n",
       "      <th>2</th>\n",
       "      <td>8DShNS-LuFqpEWIp0HxijA</td>\n",
       "      <td>\"Sports Authority\"</td>\n",
       "      <td>Tempe</td>\n",
       "      <td>AZ</td>\n",
       "      <td>85282</td>\n",
       "      <td>33.383147</td>\n",
       "      <td>-111.964725</td>\n",
       "      <td>3.0</td>\n",
       "      <td>9</td>\n",
       "      <td>0</td>\n",
       "      <td>...</td>\n",
       "      <td>True</td>\n",
       "      <td>1.0</td>\n",
       "      <td>False</td>\n",
       "      <td>0.0</td>\n",
       "      <td>False</td>\n",
       "      <td>0.0</td>\n",
       "      <td>120</td>\n",
       "      <td>0</td>\n",
       "      <td>0</td>\n",
       "      <td>3</td>\n",
       "    </tr>\n",
       "    <tr>\n",
       "      <th>3</th>\n",
       "      <td>PfOCPjBrlQAnz__NXj9h_w</td>\n",
       "      <td>\"Brick House Tavern + Tap\"</td>\n",
       "      <td>Cuyahoga Falls</td>\n",
       "      <td>OH</td>\n",
       "      <td>44221</td>\n",
       "      <td>41.119535</td>\n",
       "      <td>-81.475690</td>\n",
       "      <td>3.5</td>\n",
       "      <td>116</td>\n",
       "      <td>1</td>\n",
       "      <td>...</td>\n",
       "      <td>False</td>\n",
       "      <td>0.0</td>\n",
       "      <td>False</td>\n",
       "      <td>0.0</td>\n",
       "      <td>True</td>\n",
       "      <td>1.0</td>\n",
       "      <td>263</td>\n",
       "      <td>0</td>\n",
       "      <td>0</td>\n",
       "      <td>25</td>\n",
       "    </tr>\n",
       "    <tr>\n",
       "      <th>4</th>\n",
       "      <td>o9eMRCWt5PkpLDE0gOPtcQ</td>\n",
       "      <td>\"Messina\"</td>\n",
       "      <td>Stuttgart</td>\n",
       "      <td>BW</td>\n",
       "      <td>70567</td>\n",
       "      <td>48.727200</td>\n",
       "      <td>9.147950</td>\n",
       "      <td>4.0</td>\n",
       "      <td>5</td>\n",
       "      <td>1</td>\n",
       "      <td>...</td>\n",
       "      <td>False</td>\n",
       "      <td>0.0</td>\n",
       "      <td>False</td>\n",
       "      <td>0.0</td>\n",
       "      <td>False</td>\n",
       "      <td>0.0</td>\n",
       "      <td>1</td>\n",
       "      <td>0</td>\n",
       "      <td>0</td>\n",
       "      <td>0</td>\n",
       "    </tr>\n",
       "  </tbody>\n",
       "</table>\n",
       "<p>5 rows × 38 columns</p>\n",
       "</div>"
      ],
      "text/plain": [
       "              business_id                        name            city state  \\\n",
       "0  FYWN1wneV18bWNgQjJ2GNg          \"Dental by Design\"       Ahwatukee    AZ   \n",
       "1  He-G7vWjzVUysIKrfNbPUQ       \"Stephen Szabo Salon\"        McMurray    PA   \n",
       "2  8DShNS-LuFqpEWIp0HxijA          \"Sports Authority\"           Tempe    AZ   \n",
       "3  PfOCPjBrlQAnz__NXj9h_w  \"Brick House Tavern + Tap\"  Cuyahoga Falls    OH   \n",
       "4  o9eMRCWt5PkpLDE0gOPtcQ                   \"Messina\"       Stuttgart    BW   \n",
       "\n",
       "  postal_code   latitude   longitude  stars  review_count  is_open  \\\n",
       "0       85044  33.330690 -111.978599    4.0            22        1   \n",
       "1       15317  40.291685  -80.104900    3.0            11        1   \n",
       "2       85282  33.383147 -111.964725    3.0             9        0   \n",
       "3       44221  41.119535  -81.475690    3.5           116        1   \n",
       "4       70567  48.727200    9.147950    4.0             5        1   \n",
       "\n",
       "        ...       Shopping  Shopping_dum Beauty Beauty_dum  Nightlife  \\\n",
       "0       ...          False           0.0  False        0.0      False   \n",
       "1       ...          False           0.0   True        1.0      False   \n",
       "2       ...           True           1.0  False        0.0      False   \n",
       "3       ...          False           0.0  False        0.0       True   \n",
       "4       ...          False           0.0  False        0.0      False   \n",
       "\n",
       "   Nightlife_dum checkins neg_tip_comment likes pos_tip_comment  \n",
       "0            0.0       39               0     0               6  \n",
       "1            0.0       15               0     0               1  \n",
       "2            0.0      120               0     0               3  \n",
       "3            1.0      263               0     0              25  \n",
       "4            0.0        1               0     0               0  \n",
       "\n",
       "[5 rows x 38 columns]"
      ]
     },
     "execution_count": 62,
     "metadata": {},
     "output_type": "execute_result"
    }
   ],
   "source": [
    "mdf2.head()"
   ]
  },
  {
   "cell_type": "code",
   "execution_count": 63,
   "metadata": {},
   "outputs": [
    {
     "data": {
      "text/plain": [
       "44437"
      ]
     },
     "execution_count": 63,
     "metadata": {},
     "output_type": "execute_result"
    }
   ],
   "source": [
    "#We then looked specifically at restaurants, since the vast majority of businesses in this dataset are restaurants\n",
    "dfR= mdf2[mdf2['Restaurants_dum'] == 1]\n",
    "len(dfR)"
   ]
  },
  {
   "cell_type": "code",
   "execution_count": 64,
   "metadata": {},
   "outputs": [
    {
     "data": {
      "text/html": [
       "<div>\n",
       "<style>\n",
       "    .dataframe thead tr:only-child th {\n",
       "        text-align: right;\n",
       "    }\n",
       "\n",
       "    .dataframe thead th {\n",
       "        text-align: left;\n",
       "    }\n",
       "\n",
       "    .dataframe tbody tr th {\n",
       "        vertical-align: top;\n",
       "    }\n",
       "</style>\n",
       "<table border=\"1\" class=\"dataframe\">\n",
       "  <thead>\n",
       "    <tr style=\"text-align: right;\">\n",
       "      <th></th>\n",
       "      <th>text</th>\n",
       "      <th>date</th>\n",
       "      <th>likes</th>\n",
       "      <th>business_id</th>\n",
       "      <th>user_id</th>\n",
       "      <th>pos_tip_comment</th>\n",
       "      <th>neg_tip_comment</th>\n",
       "    </tr>\n",
       "  </thead>\n",
       "  <tbody>\n",
       "    <tr>\n",
       "      <th>0</th>\n",
       "      <td>Great breakfast large portions and friendly wa...</td>\n",
       "      <td>2015-08-12</td>\n",
       "      <td>0</td>\n",
       "      <td>jH19V2I9fIslnNhDzPmdkA</td>\n",
       "      <td>ZcLKXikTHYOnYt5VYRO5sg</td>\n",
       "      <td>3</td>\n",
       "      <td>0</td>\n",
       "    </tr>\n",
       "    <tr>\n",
       "      <th>1</th>\n",
       "      <td>Nice place. Great staff.  A fixture in the tow...</td>\n",
       "      <td>2014-06-20</td>\n",
       "      <td>0</td>\n",
       "      <td>dAa0hB2yrnHzVmsCkN4YvQ</td>\n",
       "      <td>oaYhjqBbh18ZhU0bpyzSuw</td>\n",
       "      <td>2</td>\n",
       "      <td>0</td>\n",
       "    </tr>\n",
       "    <tr>\n",
       "      <th>2</th>\n",
       "      <td>Happy hour 5-7 Monday - Friday</td>\n",
       "      <td>2016-10-12</td>\n",
       "      <td>0</td>\n",
       "      <td>dAa0hB2yrnHzVmsCkN4YvQ</td>\n",
       "      <td>ulQ8Nyj7jCUR8M83SUMoRQ</td>\n",
       "      <td>1</td>\n",
       "      <td>0</td>\n",
       "    </tr>\n",
       "    <tr>\n",
       "      <th>3</th>\n",
       "      <td>Parking is a premium, keep circling, you will ...</td>\n",
       "      <td>2017-01-28</td>\n",
       "      <td>0</td>\n",
       "      <td>ESzO3Av0b1_TzKOiqzbQYQ</td>\n",
       "      <td>ulQ8Nyj7jCUR8M83SUMoRQ</td>\n",
       "      <td>1</td>\n",
       "      <td>0</td>\n",
       "    </tr>\n",
       "    <tr>\n",
       "      <th>4</th>\n",
       "      <td>Homemade pasta is the best in the area</td>\n",
       "      <td>2017-02-25</td>\n",
       "      <td>0</td>\n",
       "      <td>k7WRPbDd7rztjHcGGkEjlw</td>\n",
       "      <td>ulQ8Nyj7jCUR8M83SUMoRQ</td>\n",
       "      <td>1</td>\n",
       "      <td>0</td>\n",
       "    </tr>\n",
       "  </tbody>\n",
       "</table>\n",
       "</div>"
      ],
      "text/plain": [
       "                                                text        date  likes  \\\n",
       "0  Great breakfast large portions and friendly wa...  2015-08-12      0   \n",
       "1  Nice place. Great staff.  A fixture in the tow...  2014-06-20      0   \n",
       "2                     Happy hour 5-7 Monday - Friday  2016-10-12      0   \n",
       "3  Parking is a premium, keep circling, you will ...  2017-01-28      0   \n",
       "4             Homemade pasta is the best in the area  2017-02-25      0   \n",
       "\n",
       "              business_id                 user_id  pos_tip_comment  \\\n",
       "0  jH19V2I9fIslnNhDzPmdkA  ZcLKXikTHYOnYt5VYRO5sg                3   \n",
       "1  dAa0hB2yrnHzVmsCkN4YvQ  oaYhjqBbh18ZhU0bpyzSuw                2   \n",
       "2  dAa0hB2yrnHzVmsCkN4YvQ  ulQ8Nyj7jCUR8M83SUMoRQ                1   \n",
       "3  ESzO3Av0b1_TzKOiqzbQYQ  ulQ8Nyj7jCUR8M83SUMoRQ                1   \n",
       "4  k7WRPbDd7rztjHcGGkEjlw  ulQ8Nyj7jCUR8M83SUMoRQ                1   \n",
       "\n",
       "   neg_tip_comment  \n",
       "0                0  \n",
       "1                0  \n",
       "2                0  \n",
       "3                0  \n",
       "4                0  "
      ]
     },
     "execution_count": 64,
     "metadata": {},
     "output_type": "execute_result"
    }
   ],
   "source": [
    "tip.head(5)"
   ]
  },
  {
   "cell_type": "code",
   "execution_count": 65,
   "metadata": {},
   "outputs": [
    {
     "data": {
      "text/html": [
       "<div>\n",
       "<style>\n",
       "    .dataframe thead tr:only-child th {\n",
       "        text-align: right;\n",
       "    }\n",
       "\n",
       "    .dataframe thead th {\n",
       "        text-align: left;\n",
       "    }\n",
       "\n",
       "    .dataframe tbody tr th {\n",
       "        vertical-align: top;\n",
       "    }\n",
       "</style>\n",
       "<table border=\"1\" class=\"dataframe\">\n",
       "  <thead>\n",
       "    <tr style=\"text-align: right;\">\n",
       "      <th></th>\n",
       "      <th>stars</th>\n",
       "      <th>review_count</th>\n",
       "    </tr>\n",
       "  </thead>\n",
       "  <tbody>\n",
       "    <tr>\n",
       "      <th>0</th>\n",
       "      <td>1.0</td>\n",
       "      <td>1157</td>\n",
       "    </tr>\n",
       "    <tr>\n",
       "      <th>1</th>\n",
       "      <td>1.5</td>\n",
       "      <td>11946</td>\n",
       "    </tr>\n",
       "    <tr>\n",
       "      <th>2</th>\n",
       "      <td>2.0</td>\n",
       "      <td>46605</td>\n",
       "    </tr>\n",
       "    <tr>\n",
       "      <th>3</th>\n",
       "      <td>2.5</td>\n",
       "      <td>146188</td>\n",
       "    </tr>\n",
       "    <tr>\n",
       "      <th>4</th>\n",
       "      <td>3.0</td>\n",
       "      <td>387645</td>\n",
       "    </tr>\n",
       "    <tr>\n",
       "      <th>5</th>\n",
       "      <td>3.5</td>\n",
       "      <td>835683</td>\n",
       "    </tr>\n",
       "    <tr>\n",
       "      <th>6</th>\n",
       "      <td>4.0</td>\n",
       "      <td>1220571</td>\n",
       "    </tr>\n",
       "    <tr>\n",
       "      <th>7</th>\n",
       "      <td>4.5</td>\n",
       "      <td>478908</td>\n",
       "    </tr>\n",
       "    <tr>\n",
       "      <th>8</th>\n",
       "      <td>5.0</td>\n",
       "      <td>20465</td>\n",
       "    </tr>\n",
       "  </tbody>\n",
       "</table>\n",
       "</div>"
      ],
      "text/plain": [
       "   stars  review_count\n",
       "0    1.0          1157\n",
       "1    1.5         11946\n",
       "2    2.0         46605\n",
       "3    2.5        146188\n",
       "4    3.0        387645\n",
       "5    3.5        835683\n",
       "6    4.0       1220571\n",
       "7    4.5        478908\n",
       "8    5.0         20465"
      ]
     },
     "execution_count": 65,
     "metadata": {},
     "output_type": "execute_result"
    }
   ],
   "source": [
    "## Visulaization of review count for each star category\n",
    "df_star_reviewcount= dfR.groupby(['stars'], as_index=False).agg({'review_count':'sum'})\n",
    "df_star_reviewcount"
   ]
  },
  {
   "cell_type": "code",
   "execution_count": 66,
   "metadata": {
    "scrolled": true
   },
   "outputs": [
    {
     "data": {
      "text/plain": [
       "<seaborn.axisgrid.FacetGrid at 0x1484fc10>"
      ]
     },
     "execution_count": 66,
     "metadata": {},
     "output_type": "execute_result"
    },
    {
     "data": {
      "image/png": "[encoded data removed]",
      "text/plain": [
       "<matplotlib.figure.Figure at 0x1484f870>"
      ]
     },
     "metadata": {},
     "output_type": "display_data"
    }
   ],
   "source": [
    "sns.factorplot(x='stars',y='review_count', data=df_star_reviewcount, kind='bar')"
   ]
  },
  {
   "cell_type": "markdown",
   "metadata": {},
   "source": [
    "** 1. \n",
    "From the plot you can see that number of review counts is highest for restaurants with 4 stars, and the distribution among ratings is skewed right.**\n",
    "\n",
    "**2. The numbers drop dramatically from 4 stars to 4.5, and from 4.5 to 5. So that means it's relatively easy to satisfy a customer (3.5-4 stars), but difficult to really impress them!**\n",
    "\n",
    "** 3. The review and ratings distribution graphs suggest that perhaps people tend to review restaurants that they were more satisfied with.  However, more investigation is needed to determine whether its the number of reviews/popularity of a place that is causing higher ratings, or the other way around.**\n"
   ]
  },
  {
   "cell_type": "code",
   "execution_count": 67,
   "metadata": {
    "scrolled": false
   },
   "outputs": [
    {
     "data": {
      "text/plain": [
       "<seaborn.axisgrid.FacetGrid at 0x1484fc30>"
      ]
     },
     "execution_count": 67,
     "metadata": {},
     "output_type": "execute_result"
    },
    {
     "data": {
      "image/png": "[encoded data removed]",
      "text/plain": [
       "<matplotlib.figure.Figure at 0x19c79950>"
      ]
     },
     "metadata": {},
     "output_type": "display_data"
    }
   ],
   "source": [
    "# vizualization of review count for high and low ratings\n",
    "df_star_reviewcount= dfR.groupby(['stars_dum'], as_index=False).agg({'review_count':'sum'})\n",
    "sns.factorplot(x='stars_dum',y='review_count', data=df_star_reviewcount, kind='bar')"
   ]
  },
  {
   "cell_type": "markdown",
   "metadata": {
    "collapsed": true
   },
   "source": [
    "**Results: We can see that the the number of reviews for restaurants with high rating is more than that of restraunts with low rating. This may be due to the fact that people are more inclined to give reviews when they are more satisfied with their dining experience.**"
   ]
  },
  {
   "cell_type": "markdown",
   "metadata": {
    "collapsed": true
   },
   "source": [
    "### Validate finding #2 with Machine Learning"
   ]
  },
  {
   "cell_type": "code",
   "execution_count": 68,
   "metadata": {},
   "outputs": [
    {
     "data": {
      "text/html": [
       "<div>\n",
       "<style>\n",
       "    .dataframe thead tr:only-child th {\n",
       "        text-align: right;\n",
       "    }\n",
       "\n",
       "    .dataframe thead th {\n",
       "        text-align: left;\n",
       "    }\n",
       "\n",
       "    .dataframe tbody tr th {\n",
       "        vertical-align: top;\n",
       "    }\n",
       "</style>\n",
       "<table border=\"1\" class=\"dataframe\">\n",
       "  <thead>\n",
       "    <tr style=\"text-align: right;\">\n",
       "      <th></th>\n",
       "      <th>review_count</th>\n",
       "      <th>Parking</th>\n",
       "      <th>is_open</th>\n",
       "      <th>BusinessAcceptsCreditCards</th>\n",
       "      <th>Alcohol</th>\n",
       "      <th>DogsAllowed</th>\n",
       "      <th>BikeParking</th>\n",
       "      <th>stars_dum</th>\n",
       "      <th>checkins</th>\n",
       "      <th>likes</th>\n",
       "      <th>neg_tip_comment</th>\n",
       "      <th>pos_tip_comment</th>\n",
       "    </tr>\n",
       "  </thead>\n",
       "  <tbody>\n",
       "    <tr>\n",
       "      <th>3</th>\n",
       "      <td>116</td>\n",
       "      <td>1</td>\n",
       "      <td>1</td>\n",
       "      <td>0</td>\n",
       "      <td>1</td>\n",
       "      <td>0</td>\n",
       "      <td>1</td>\n",
       "      <td>0.0</td>\n",
       "      <td>263</td>\n",
       "      <td>0</td>\n",
       "      <td>0</td>\n",
       "      <td>25</td>\n",
       "    </tr>\n",
       "    <tr>\n",
       "      <th>4</th>\n",
       "      <td>5</td>\n",
       "      <td>0</td>\n",
       "      <td>1</td>\n",
       "      <td>0</td>\n",
       "      <td>1</td>\n",
       "      <td>0</td>\n",
       "      <td>0</td>\n",
       "      <td>1.0</td>\n",
       "      <td>1</td>\n",
       "      <td>0</td>\n",
       "      <td>0</td>\n",
       "      <td>0</td>\n",
       "    </tr>\n",
       "    <tr>\n",
       "      <th>9</th>\n",
       "      <td>7</td>\n",
       "      <td>1</td>\n",
       "      <td>1</td>\n",
       "      <td>0</td>\n",
       "      <td>1</td>\n",
       "      <td>0</td>\n",
       "      <td>1</td>\n",
       "      <td>0.0</td>\n",
       "      <td>28</td>\n",
       "      <td>0</td>\n",
       "      <td>1</td>\n",
       "      <td>1</td>\n",
       "    </tr>\n",
       "    <tr>\n",
       "      <th>10</th>\n",
       "      <td>12</td>\n",
       "      <td>1</td>\n",
       "      <td>0</td>\n",
       "      <td>0</td>\n",
       "      <td>1</td>\n",
       "      <td>0</td>\n",
       "      <td>0</td>\n",
       "      <td>0.0</td>\n",
       "      <td>3</td>\n",
       "      <td>0</td>\n",
       "      <td>2</td>\n",
       "      <td>0</td>\n",
       "    </tr>\n",
       "    <tr>\n",
       "      <th>13</th>\n",
       "      <td>34</td>\n",
       "      <td>1</td>\n",
       "      <td>1</td>\n",
       "      <td>0</td>\n",
       "      <td>1</td>\n",
       "      <td>0</td>\n",
       "      <td>1</td>\n",
       "      <td>0.0</td>\n",
       "      <td>94</td>\n",
       "      <td>0</td>\n",
       "      <td>6</td>\n",
       "      <td>15</td>\n",
       "    </tr>\n",
       "  </tbody>\n",
       "</table>\n",
       "</div>"
      ],
      "text/plain": [
       "    review_count  Parking  is_open  BusinessAcceptsCreditCards  Alcohol  \\\n",
       "3            116        1        1                           0        1   \n",
       "4              5        0        1                           0        1   \n",
       "9              7        1        1                           0        1   \n",
       "10            12        1        0                           0        1   \n",
       "13            34        1        1                           0        1   \n",
       "\n",
       "    DogsAllowed  BikeParking  stars_dum  checkins  likes  neg_tip_comment  \\\n",
       "3             0            1        0.0       263      0                0   \n",
       "4             0            0        1.0         1      0                0   \n",
       "9             0            1        0.0        28      0                1   \n",
       "10            0            0        0.0         3      0                2   \n",
       "13            0            1        0.0        94      0                6   \n",
       "\n",
       "    pos_tip_comment  \n",
       "3                25  \n",
       "4                 0  \n",
       "9                 1  \n",
       "10                0  \n",
       "13               15  "
      ]
     },
     "execution_count": 68,
     "metadata": {},
     "output_type": "execute_result"
    }
   ],
   "source": [
    "#create dataframe specifically for the decision tree because we can only use columns with numeric values/dummies:\n",
    "df1 = dfR[[\"review_count\", \"Parking\", \"is_open\",\"BusinessAcceptsCreditCards\",\"Alcohol\",\"DogsAllowed\",\"BikeParking\",\\\n",
    "           \"stars_dum\",\"checkins\",\"likes\",\"neg_tip_comment\",\"pos_tip_comment\"]]\n",
    "df1.head()"
   ]
  },
  {
   "cell_type": "code",
   "execution_count": 69,
   "metadata": {
    "collapsed": true
   },
   "outputs": [],
   "source": [
    "##Make X & Y\n",
    "\n",
    "X=df1.drop('stars_dum',axis=1)\n",
    "Y =df1['stars_dum']"
   ]
  },
  {
   "cell_type": "code",
   "execution_count": 70,
   "metadata": {
    "collapsed": true
   },
   "outputs": [],
   "source": [
    "dt = tree.DecisionTreeClassifier(max_depth=3)"
   ]
  },
  {
   "cell_type": "code",
   "execution_count": 71,
   "metadata": {
    "scrolled": true
   },
   "outputs": [
    {
     "data": {
      "text/plain": [
       "DecisionTreeClassifier(class_weight=None, criterion='gini', max_depth=3,\n",
       "            max_features=None, max_leaf_nodes=None,\n",
       "            min_impurity_decrease=0.0, min_impurity_split=None,\n",
       "            min_samples_leaf=1, min_samples_split=2,\n",
       "            min_weight_fraction_leaf=0.0, presort=False, random_state=None,\n",
       "            splitter='best')"
      ]
     },
     "execution_count": 71,
     "metadata": {},
     "output_type": "execute_result"
    }
   ],
   "source": [
    "dt.fit(X,Y)"
   ]
  },
  {
   "cell_type": "code",
   "execution_count": 72,
   "metadata": {},
   "outputs": [
    {
     "data": {
      "image/png": "[encoded data removed]",
      "text/plain": [
       "<IPython.core.display.Image object>"
      ]
     },
     "execution_count": 72,
     "metadata": {},
     "output_type": "execute_result"
    }
   ],
   "source": [
    "# This code will visualize a decision tree dt, trained with the attributes in X and the class labels in Y\n",
    "dt_feature_names = list(X.columns)\n",
    "dt_target_names = np.array(Y.unique(),dtype=np.string_) \n",
    "tree.export_graphviz(dt, out_file='tree.dot', \n",
    "    feature_names=dt_feature_names, class_names=dt_target_names, filled=True)  \n",
    "graph = pydotplus.graph_from_dot_file('tree.dot')\n",
    "Image(graph.create_png())"
   ]
  },
  {
   "cell_type": "markdown",
   "metadata": {},
   "source": [
    "**Interpreting the tree:**\n",
    "\n",
    "1. Number of positive tip mentions is the most defining factor… if number of positive count is less than 21.5 and number of negative tip count is less than 3.5, then there is a high chance of high rating for the restaurant. If the number of negative tip count is higher but number of positive tip comment is higher than number of negative count than there is high chance of high rating.\n",
    "\n",
    "\n",
    "2. Surprisingly, for restaurants with a low number of reviews, Dogs Allowed is an important defining factor for whether they have a high or lower rating."
   ]
  },
  {
   "cell_type": "markdown",
   "metadata": {},
   "source": [
    "### Statistically Validate\n"
   ]
  },
  {
   "cell_type": "code",
   "execution_count": 73,
   "metadata": {},
   "outputs": [],
   "source": [
    "df1['discretized_review_count']=pd.cut(df1.review_count,bins=[0,2000,4000,6000,8000],include_lowest=True)"
   ]
  },
  {
   "cell_type": "code",
   "execution_count": 74,
   "metadata": {},
   "outputs": [
    {
     "data": {
      "text/plain": [
       "<seaborn.axisgrid.FacetGrid at 0x17458a10>"
      ]
     },
     "execution_count": 74,
     "metadata": {},
     "output_type": "execute_result"
    },
    {
     "data": {
      "image/png": "[encoded data removed]",
      "text/plain": [
       "<matplotlib.figure.Figure at 0x174b8af0>"
      ]
     },
     "metadata": {},
     "output_type": "display_data"
    }
   ],
   "source": [
    "sns.factorplot(x='pos_tip_comment',y='discretized_review_count', data=df1,hue='stars_dum', kind='point',size=10,aspect=2)"
   ]
  },
  {
   "cell_type": "markdown",
   "metadata": {},
   "source": [
    "**So its very important that managers give special attention to the comments that customers give. In case they are negative, they should talk to customers immediately to know their reasons of dissatisfaction and improve their restaurant and rating.**"
   ]
  },
  {
   "cell_type": "markdown",
   "metadata": {},
   "source": [
    "### Prediction of Restaurant Rating Using Holdout & Test Sample"
   ]
  },
  {
   "cell_type": "code",
   "execution_count": 75,
   "metadata": {
    "collapsed": true
   },
   "outputs": [],
   "source": [
    "#import modules\n",
    "\n",
    "from sklearn.model_selection import train_test_split\n",
    "from sklearn.ensemble import RandomForestClassifier"
   ]
  },
  {
   "cell_type": "code",
   "execution_count": 76,
   "metadata": {},
   "outputs": [],
   "source": [
    "#Step 1: split the data into training and test\n",
    "X_train, X_test, Y_train, Y_test =train_test_split(X,Y,test_size=0.3,random_state = 2)"
   ]
  },
  {
   "cell_type": "code",
   "execution_count": 77,
   "metadata": {},
   "outputs": [
    {
     "data": {
      "text/plain": [
       "RandomForestClassifier(bootstrap=True, class_weight=None, criterion='gini',\n",
       "            max_depth=None, max_features='auto', max_leaf_nodes=None,\n",
       "            min_impurity_decrease=0.0, min_impurity_split=None,\n",
       "            min_samples_leaf=1, min_samples_split=2,\n",
       "            min_weight_fraction_leaf=0.0, n_estimators=10, n_jobs=1,\n",
       "            oob_score=False, random_state=2, verbose=0, warm_start=False)"
      ]
     },
     "execution_count": 77,
     "metadata": {},
     "output_type": "execute_result"
    }
   ],
   "source": [
    "#Step 2:train the classifier on the training set\n",
    "cl = RandomForestClassifier(random_state = 2)\n",
    "cl.fit(X_train,Y_train)"
   ]
  },
  {
   "cell_type": "code",
   "execution_count": 78,
   "metadata": {},
   "outputs": [
    {
     "data": {
      "text/plain": [
       "array([0., 0., 0., ..., 0., 0., 1.])"
      ]
     },
     "execution_count": 78,
     "metadata": {},
     "output_type": "execute_result"
    }
   ],
   "source": [
    "##Predict on the test test\n",
    "cl.predict(X_test)"
   ]
  },
  {
   "cell_type": "code",
   "execution_count": 79,
   "metadata": {},
   "outputs": [
    {
     "data": {
      "text/plain": [
       "0.6145364536453646"
      ]
     },
     "execution_count": 79,
     "metadata": {},
     "output_type": "execute_result"
    }
   ],
   "source": [
    "(cl.predict(X_test)==Y_test).mean()"
   ]
  },
  {
   "cell_type": "code",
   "execution_count": 80,
   "metadata": {},
   "outputs": [
    {
     "data": {
      "text/plain": [
       "array([0., 0., 0., 1., 0., 1., 0., 0., 0., 0.])"
      ]
     },
     "execution_count": 80,
     "metadata": {},
     "output_type": "execute_result"
    },
    {
     "data": {
      "text/plain": [
       "array([0.1      , 0.1      , 0.2      , 0.9      , 0.5      , 0.7      ,\n",
       "       0.2      , 0.4      , 0.4962181, 0.       ])"
      ]
     },
     "execution_count": 80,
     "metadata": {},
     "output_type": "execute_result"
    }
   ],
   "source": [
    "#Step 3: predict on the test set\n",
    "Y_pred= cl.predict(X_test)\n",
    "Y_proba= cl.predict_proba(X_test)[:,1]\n",
    "Y_pred[:10]\n",
    "Y_proba[:10]"
   ]
  },
  {
   "cell_type": "markdown",
   "metadata": {},
   "source": [
    "**Evaluate the classification performance:**"
   ]
  },
  {
   "cell_type": "code",
   "execution_count": 81,
   "metadata": {},
   "outputs": [
    {
     "data": {
      "text/plain": [
       "array([[6008, 3148],\n",
       "       [1991, 2185]], dtype=int64)"
      ]
     },
     "execution_count": 81,
     "metadata": {},
     "output_type": "execute_result"
    }
   ],
   "source": [
    "# Confusion Matrix\n",
    "from sklearn.metrics import confusion_matrix\n",
    "confusion_matrix(Y_pred, Y_test)"
   ]
  },
  {
   "cell_type": "code",
   "execution_count": 82,
   "metadata": {},
   "outputs": [
    {
     "data": {
      "text/plain": [
       "0.6145364536453646"
      ]
     },
     "execution_count": 82,
     "metadata": {},
     "output_type": "execute_result"
    }
   ],
   "source": [
    "#Accuracy\n",
    "from sklearn.metrics import accuracy_score\n",
    "accuracy_score(Y_test,Y_pred)"
   ]
  },
  {
   "cell_type": "code",
   "execution_count": 83,
   "metadata": {},
   "outputs": [
    {
     "data": {
      "text/plain": [
       "0.523227969348659"
      ]
     },
     "execution_count": 83,
     "metadata": {},
     "output_type": "execute_result"
    }
   ],
   "source": [
    "#Precision(Out of the retrieved elements, how many are actually positive?)\n",
    "from sklearn.metrics import precision_score\n",
    "precision_score(Y_test,Y_pred)"
   ]
  },
  {
   "cell_type": "code",
   "execution_count": 84,
   "metadata": {},
   "outputs": [
    {
     "data": {
      "text/plain": [
       "0.40971310706919184"
      ]
     },
     "execution_count": 84,
     "metadata": {},
     "output_type": "execute_result"
    }
   ],
   "source": [
    "#Recall(Among the relevant elements, how many did I retrieve?)\n",
    "from sklearn.metrics import recall_score\n",
    "recall_score(Y_test, Y_pred)"
   ]
  },
  {
   "cell_type": "code",
   "execution_count": 85,
   "metadata": {},
   "outputs": [
    {
     "data": {
      "text/plain": [
       "0.6198803750712605"
      ]
     },
     "execution_count": 85,
     "metadata": {},
     "output_type": "execute_result"
    }
   ],
   "source": [
    "##Auc_score \n",
    "from sklearn.metrics import roc_auc_score\n",
    "roc_auc_score(Y_test,Y_proba)"
   ]
  },
  {
   "cell_type": "markdown",
   "metadata": {},
   "source": [
    "**Decision Tree Interpretation:**\n",
    "\n",
    "For unbalanced data such as in this case, we need to look at the AUC score rather than the accuracy to evaluate the machine learning predictions.  Here, the AUC is only 0.62, which is not ideal since a score of 0.5 means the model is only as good as completely random predictions.  This suggests that maybe there are many other important factors that impact whether a restaurant has a high or low rating, and we don't have these variables available in our dataset."
   ]
  },
  {
   "cell_type": "markdown",
   "metadata": {
    "collapsed": true
   },
   "source": [
    "#########################################################################################################################"
   ]
  },
  {
   "cell_type": "markdown",
   "metadata": {
    "collapsed": true
   },
   "source": [
    "## Finding 3: Comparing  the largest 3 fast food restaurant chains i.e. Subway, McDonald's, Starbucks(as per wikipedia)  in US vs. outside the US and provide business insight \n",
    "\n",
    "Subways that are in the US  have higher star ratings than those outside of the US.Both the McDonald’s and Starbucks that are in the US  have lower star ratings than those outside of the US.However,  Fewer McDonald’s  in the US have parking compared to those outside the US."
   ]
  },
  {
   "cell_type": "markdown",
   "metadata": {},
   "source": [
    "# 3.1 Creating US_states dummy column(wheather it's US or not')¶"
   ]
  },
  {
   "cell_type": "code",
   "execution_count": 86,
   "metadata": {
    "collapsed": true
   },
   "outputs": [],
   "source": [
    "states = [\"AL\", \"AK\", \"AZ\", \"AR\", \"CA\", \"CO\", \"CT\", \"DC\", \"DE\", \"FL\", \"GA\", \n",
    "          \"HI\", \"ID\", \"IL\", \"IN\", \"IA\", \"KS\", \"KY\", \"LA\", \"ME\", \"MD\", \n",
    "          \"MA\", \"MI\", \"MN\", \"MS\", \"MO\", \"MT\", \"NE\", \"NV\", \"NH\", \"NJ\", \n",
    "          \"NM\", \"NY\", \"NC\", \"ND\", \"OH\", \"OK\", \"OR\", \"PA\", \"RI\", \"SC\", \n",
    "          \"SD\", \"TN\", \"TX\", \"UT\", \"VT\", \"VA\", \"WA\", \"WV\", \"WI\", \"WY\"]"
   ]
  },
  {
   "cell_type": "code",
   "execution_count": 87,
   "metadata": {
    "collapsed": true
   },
   "outputs": [],
   "source": [
    "# Only US states\n",
    "US_states=set(states).intersection(mdf.state)"
   ]
  },
  {
   "cell_type": "code",
   "execution_count": 88,
   "metadata": {
    "collapsed": true
   },
   "outputs": [],
   "source": [
    "# Creating US_states dummy column\n",
    "mdf['US_states'] = mdf.state.isin(US_states).astype(int)"
   ]
  },
  {
   "cell_type": "markdown",
   "metadata": {},
   "source": [
    "# 3.2Cleaning the data for mdf_Subway_only, mdf_macdonalds_only, mdf_Starbucks_onlydata slice (For the purpose of basic analysis):¶"
   ]
  },
  {
   "cell_type": "code",
   "execution_count": 89,
   "metadata": {
    "collapsed": true
   },
   "outputs": [],
   "source": [
    "mdf_Subway_only = mdf[mdf['name'] == '\"Subway\"']\n",
    "mdf_Subway_only = mdf.loc[mdf['name'] == '\"Subway\"']"
   ]
  },
  {
   "cell_type": "code",
   "execution_count": 90,
   "metadata": {
    "collapsed": true
   },
   "outputs": [],
   "source": [
    "mdf_mcdonalds_only = mdf[mdf['name'] == '\"McDonald\\'s\"']\n",
    "mdf_mcdonalds_only = mdf.loc[mdf['name'] == '\"McDonald\\'s\"']"
   ]
  },
  {
   "cell_type": "code",
   "execution_count": 91,
   "metadata": {
    "collapsed": true
   },
   "outputs": [],
   "source": [
    "mdf_Starbucks_only = mdf[mdf['name'] == '\"Starbucks\"']\n",
    "mdf_Starbucks_only = mdf.loc[mdf['name'] == '\"Starbucks\"']"
   ]
  },
  {
   "cell_type": "markdown",
   "metadata": {},
   "source": [
    "# 3.3 Number of restruants in and outside of US forSubway, McDonald's, Starbucks"
   ]
  },
  {
   "cell_type": "code",
   "execution_count": 92,
   "metadata": {
    "collapsed": true
   },
   "outputs": [],
   "source": [
    "#There are 651 Subway in the data set\n",
    "#From which 563(i.e. 86%) are in the US and 88(i.e.14%) outside of the US"
   ]
  },
  {
   "cell_type": "code",
   "execution_count": 93,
   "metadata": {},
   "outputs": [
    {
     "data": {
      "text/plain": [
       "651"
      ]
     },
     "execution_count": 93,
     "metadata": {},
     "output_type": "execute_result"
    },
    {
     "data": {
      "text/plain": [
       "563"
      ]
     },
     "execution_count": 93,
     "metadata": {},
     "output_type": "execute_result"
    }
   ],
   "source": [
    "len(mdf_Subway_only)\n",
    "len(mdf_Subway_only[mdf_Subway_only['US_states']==1])"
   ]
  },
  {
   "cell_type": "code",
   "execution_count": 94,
   "metadata": {
    "collapsed": true
   },
   "outputs": [],
   "source": [
    "#There are 671 McDonald's in the data set\n",
    "#From which 483(i.e. 72% ) are in the US and 188(i.e. 28%) are outside of the US"
   ]
  },
  {
   "cell_type": "code",
   "execution_count": 95,
   "metadata": {},
   "outputs": [
    {
     "data": {
      "text/plain": [
       "671"
      ]
     },
     "execution_count": 95,
     "metadata": {},
     "output_type": "execute_result"
    },
    {
     "data": {
      "text/plain": [
       "483"
      ]
     },
     "execution_count": 95,
     "metadata": {},
     "output_type": "execute_result"
    }
   ],
   "source": [
    "len(mdf_mcdonalds_only)\n",
    "len(mdf_mcdonalds_only[mdf_mcdonalds_only['US_states']==1])"
   ]
  },
  {
   "cell_type": "code",
   "execution_count": 96,
   "metadata": {
    "collapsed": true
   },
   "outputs": [],
   "source": [
    "#There are 932 Starbucks in the data set\n",
    "#From which 619(i.e. 66%) are in the US and 313(i.e. 34%) outside of the US"
   ]
  },
  {
   "cell_type": "code",
   "execution_count": 97,
   "metadata": {},
   "outputs": [
    {
     "data": {
      "text/plain": [
       "932"
      ]
     },
     "execution_count": 97,
     "metadata": {},
     "output_type": "execute_result"
    },
    {
     "data": {
      "text/plain": [
       "619"
      ]
     },
     "execution_count": 97,
     "metadata": {},
     "output_type": "execute_result"
    }
   ],
   "source": [
    "len(mdf_Starbucks_only)\n",
    "len(mdf_Starbucks_only[mdf_Starbucks_only['US_states']==1])"
   ]
  },
  {
   "cell_type": "markdown",
   "metadata": {},
   "source": [
    "# 3.4Plots comapring ratings for Subway, McDonald's, Starbucks(as per wikipedia) in US vs. outside the US¶"
   ]
  },
  {
   "cell_type": "code",
   "execution_count": 98,
   "metadata": {},
   "outputs": [
    {
     "data": {
      "text/plain": [
       "<seaborn.axisgrid.FacetGrid at 0x19abd510>"
      ]
     },
     "execution_count": 98,
     "metadata": {},
     "output_type": "execute_result"
    },
    {
     "data": {
      "image/png": "[encoded data removed]",
      "text/plain": [
       "<matplotlib.figure.Figure at 0x14cca770>"
      ]
     },
     "metadata": {},
     "output_type": "display_data"
    }
   ],
   "source": [
    "sns.factorplot(x='US_states',y='stars', kind='bar', data=mdf_Subway_only,\n",
    "              aspect =1)"
   ]
  },
  {
   "cell_type": "markdown",
   "metadata": {},
   "source": [
    "#Those Subway's that are in the US are rated higher than those outside of the US"
   ]
  },
  {
   "cell_type": "code",
   "execution_count": 99,
   "metadata": {},
   "outputs": [
    {
     "data": {
      "text/plain": [
       "<seaborn.axisgrid.FacetGrid at 0x199b9fd0>"
      ]
     },
     "execution_count": 99,
     "metadata": {},
     "output_type": "execute_result"
    },
    {
     "data": {
      "image/png": "[encoded data removed]",
      "text/plain": [
       "<matplotlib.figure.Figure at 0x19969370>"
      ]
     },
     "metadata": {},
     "output_type": "display_data"
    }
   ],
   "source": [
    "sns.factorplot(x='US_states',y='stars', kind='bar', data=mdf_mcdonalds_only,\n",
    "              aspect =1)"
   ]
  },
  {
   "cell_type": "markdown",
   "metadata": {},
   "source": [
    "#Those McDonald's that are in the US are rated lower than those outside of the US"
   ]
  },
  {
   "cell_type": "code",
   "execution_count": 100,
   "metadata": {},
   "outputs": [
    {
     "data": {
      "text/plain": [
       "<seaborn.axisgrid.FacetGrid at 0x14da2f10>"
      ]
     },
     "execution_count": 100,
     "metadata": {},
     "output_type": "execute_result"
    },
    {
     "data": {
      "image/png": "[encoded data removed]",
      "text/plain": [
       "<matplotlib.figure.Figure at 0x199f8110>"
      ]
     },
     "metadata": {},
     "output_type": "display_data"
    }
   ],
   "source": [
    "sns.factorplot(x='US_states',y='stars', kind='bar', data=mdf_Starbucks_only,\n",
    "              aspect =1)"
   ]
  },
  {
   "cell_type": "markdown",
   "metadata": {},
   "source": [
    " Those Starbucks that are in the US are rated lower than those outside of the US"
   ]
  },
  {
   "cell_type": "code",
   "execution_count": 101,
   "metadata": {},
   "outputs": [
    {
     "data": {
      "text/plain": [
       "<seaborn.axisgrid.FacetGrid at 0x14e32810>"
      ]
     },
     "execution_count": 101,
     "metadata": {},
     "output_type": "execute_result"
    },
    {
     "data": {
      "image/png": "[encoded data removed]",
      "text/plain": [
       "<matplotlib.figure.Figure at 0x14e014b0>"
      ]
     },
     "metadata": {},
     "output_type": "display_data"
    }
   ],
   "source": [
    "sns.factorplot(x='US_states',y='stars',hue='Parking', kind='bar', data=mdf_Subway_only,\n",
    "              aspect =1)"
   ]
  },
  {
   "cell_type": "markdown",
   "metadata": {},
   "source": [
    "#For Subway, suprisingly its rated higher if they don't have parking for both us and non us states"
   ]
  },
  {
   "cell_type": "code",
   "execution_count": 102,
   "metadata": {},
   "outputs": [
    {
     "data": {
      "text/plain": [
       "<seaborn.axisgrid.FacetGrid at 0x141826d0>"
      ]
     },
     "execution_count": 102,
     "metadata": {},
     "output_type": "execute_result"
    },
    {
     "data": {
      "image/png": "[encoded data removed]",
      "text/plain": [
       "<matplotlib.figure.Figure at 0x14e94430>"
      ]
     },
     "metadata": {},
     "output_type": "display_data"
    }
   ],
   "source": [
    "sns.factorplot(x='US_states',y='stars',hue='Parking', kind='bar', data=mdf_mcdonalds_only,\n",
    "              aspect =1)"
   ]
  },
  {
   "cell_type": "markdown",
   "metadata": {},
   "source": [
    "# McDonald's\n",
    "If McDonald's is not in the US and has parking it's rated higher rated . In the contrary, those McDonald's that are in the US are lower higher than those outside of the US. And supprisingly for those that are in the US, if they have parking they are higher rated than those that does not have parking."
   ]
  },
  {
   "cell_type": "code",
   "execution_count": 103,
   "metadata": {},
   "outputs": [
    {
     "data": {
      "text/plain": [
       "<seaborn.axisgrid.FacetGrid at 0x142331b0>"
      ]
     },
     "execution_count": 103,
     "metadata": {},
     "output_type": "execute_result"
    },
    {
     "data": {
      "image/png": "[encoded data removed]",
      "text/plain": [
       "<matplotlib.figure.Figure at 0x14f49e10>"
      ]
     },
     "metadata": {},
     "output_type": "display_data"
    }
   ],
   "source": [
    "sns.factorplot(x='US_states',y='stars',hue='Parking', kind='bar', data=mdf_Starbucks_only,\n",
    "              aspect =1)"
   ]
  },
  {
   "cell_type": "markdown",
   "metadata": {},
   "source": [
    "#  Starbucks \n",
    " For  Starbucks,  its rated higher  if they have parking for both us and non us states"
   ]
  },
  {
   "cell_type": "markdown",
   "metadata": {},
   "source": [
    "# 3.5 Validating finding with machine learning"
   ]
  },
  {
   "cell_type": "code",
   "execution_count": 104,
   "metadata": {
    "collapsed": true
   },
   "outputs": [],
   "source": [
    "#3.5.1Creating dummy column denoting whether the restaurant is Subway,McDonald's, Starbucks or not\n",
    "mdf['Subway']=mdf['name'].str.contains('Subway').astype(int)\n",
    "mdf['McDon']=mdf['name'].str.contains('McDonald').astype(int)\n",
    "mdf['Starbucks']=mdf['name'].str.contains('Starbucks').astype(int)"
   ]
  },
  {
   "cell_type": "code",
   "execution_count": 105,
   "metadata": {
    "collapsed": true
   },
   "outputs": [],
   "source": [
    "#3.5.2 Creating a new df with 'Subway','McDon','Starbucks' dummies\n",
    "col_list = ['stars', 'review_count', 'stars_dum', 'US_states',\n",
    "    'is_open','BusinessAcceptsCreditCards', 'BikeParking', 'Alcohol','DogsAllowed', 'Open24Hours', 'Parking', 'Subway','McDon','Starbucks']\n",
    "\n",
    "df = mdf[col_list]"
   ]
  },
  {
   "cell_type": "markdown",
   "metadata": {
    "collapsed": true
   },
   "source": [
    "# 3.5.3 K-Means Clustering Analysis for Subway"
   ]
  },
  {
   "cell_type": "code",
   "execution_count": 106,
   "metadata": {
    "collapsed": true
   },
   "outputs": [],
   "source": [
    "from sklearn.cluster import KMeans"
   ]
  },
  {
   "cell_type": "code",
   "execution_count": 107,
   "metadata": {
    "collapsed": true
   },
   "outputs": [],
   "source": [
    "df_Subway= df[df['Subway']==1]"
   ]
  },
  {
   "cell_type": "code",
   "execution_count": 108,
   "metadata": {},
   "outputs": [
    {
     "data": {
      "text/plain": [
       "KMeans(algorithm='auto', copy_x=True, init='k-means++', max_iter=300,\n",
       "    n_clusters=3, n_init=10, n_jobs=1, precompute_distances='auto',\n",
       "    random_state=0, tol=0.0001, verbose=0)"
      ]
     },
     "execution_count": 108,
     "metadata": {},
     "output_type": "execute_result"
    }
   ],
   "source": [
    "clust = KMeans(n_clusters=3, random_state=0)\n",
    "clust"
   ]
  },
  {
   "cell_type": "code",
   "execution_count": 109,
   "metadata": {},
   "outputs": [
    {
     "data": {
      "text/plain": [
       "KMeans(algorithm='auto', copy_x=True, init='k-means++', max_iter=300,\n",
       "    n_clusters=3, n_init=10, n_jobs=1, precompute_distances='auto',\n",
       "    random_state=0, tol=0.0001, verbose=0)"
      ]
     },
     "execution_count": 109,
     "metadata": {},
     "output_type": "execute_result"
    }
   ],
   "source": [
    "clust.fit(df_Subway)"
   ]
  },
  {
   "cell_type": "code",
   "execution_count": 110,
   "metadata": {
    "collapsed": true
   },
   "outputs": [],
   "source": [
    "df2 = df_Subway.copy()"
   ]
  },
  {
   "cell_type": "code",
   "execution_count": 111,
   "metadata": {
    "collapsed": true
   },
   "outputs": [],
   "source": [
    "df2['cluster']=clust.labels_"
   ]
  },
  {
   "cell_type": "code",
   "execution_count": 112,
   "metadata": {},
   "outputs": [
    {
     "data": {
      "text/html": [
       "<div>\n",
       "<style>\n",
       "    .dataframe thead tr:only-child th {\n",
       "        text-align: right;\n",
       "    }\n",
       "\n",
       "    .dataframe thead th {\n",
       "        text-align: left;\n",
       "    }\n",
       "\n",
       "    .dataframe tbody tr th {\n",
       "        vertical-align: top;\n",
       "    }\n",
       "</style>\n",
       "<table border=\"1\" class=\"dataframe\">\n",
       "  <thead>\n",
       "    <tr style=\"text-align: right;\">\n",
       "      <th></th>\n",
       "      <th>stars</th>\n",
       "      <th>review_count</th>\n",
       "      <th>stars_dum</th>\n",
       "      <th>US_states</th>\n",
       "      <th>is_open</th>\n",
       "      <th>BusinessAcceptsCreditCards</th>\n",
       "      <th>BikeParking</th>\n",
       "      <th>Alcohol</th>\n",
       "      <th>DogsAllowed</th>\n",
       "      <th>Open24Hours</th>\n",
       "      <th>Parking</th>\n",
       "      <th>Subway</th>\n",
       "      <th>McDon</th>\n",
       "      <th>Starbucks</th>\n",
       "    </tr>\n",
       "    <tr>\n",
       "      <th>cluster</th>\n",
       "      <th></th>\n",
       "      <th></th>\n",
       "      <th></th>\n",
       "      <th></th>\n",
       "      <th></th>\n",
       "      <th></th>\n",
       "      <th></th>\n",
       "      <th></th>\n",
       "      <th></th>\n",
       "      <th></th>\n",
       "      <th></th>\n",
       "      <th></th>\n",
       "      <th></th>\n",
       "      <th></th>\n",
       "    </tr>\n",
       "  </thead>\n",
       "  <tbody>\n",
       "    <tr>\n",
       "      <th>0</th>\n",
       "      <td>2.767196</td>\n",
       "      <td>10.708995</td>\n",
       "      <td>0.121693</td>\n",
       "      <td>0.968254</td>\n",
       "      <td>0.978836</td>\n",
       "      <td>0.0</td>\n",
       "      <td>0.989418</td>\n",
       "      <td>1.0</td>\n",
       "      <td>0.068783</td>\n",
       "      <td>0.0</td>\n",
       "      <td>0.460317</td>\n",
       "      <td>1.0</td>\n",
       "      <td>0.0</td>\n",
       "      <td>0.0</td>\n",
       "    </tr>\n",
       "    <tr>\n",
       "      <th>1</th>\n",
       "      <td>2.720379</td>\n",
       "      <td>4.428910</td>\n",
       "      <td>0.120853</td>\n",
       "      <td>0.805687</td>\n",
       "      <td>0.940758</td>\n",
       "      <td>0.0</td>\n",
       "      <td>0.992891</td>\n",
       "      <td>1.0</td>\n",
       "      <td>0.026066</td>\n",
       "      <td>0.0</td>\n",
       "      <td>0.651659</td>\n",
       "      <td>1.0</td>\n",
       "      <td>0.0</td>\n",
       "      <td>0.0</td>\n",
       "    </tr>\n",
       "    <tr>\n",
       "      <th>2</th>\n",
       "      <td>2.875000</td>\n",
       "      <td>20.800000</td>\n",
       "      <td>0.125000</td>\n",
       "      <td>1.000000</td>\n",
       "      <td>0.950000</td>\n",
       "      <td>0.0</td>\n",
       "      <td>1.000000</td>\n",
       "      <td>1.0</td>\n",
       "      <td>0.050000</td>\n",
       "      <td>0.0</td>\n",
       "      <td>0.375000</td>\n",
       "      <td>1.0</td>\n",
       "      <td>0.0</td>\n",
       "      <td>0.0</td>\n",
       "    </tr>\n",
       "  </tbody>\n",
       "</table>\n",
       "</div>"
      ],
      "text/plain": [
       "            stars  review_count  stars_dum  US_states   is_open  \\\n",
       "cluster                                                           \n",
       "0        2.767196     10.708995   0.121693   0.968254  0.978836   \n",
       "1        2.720379      4.428910   0.120853   0.805687  0.940758   \n",
       "2        2.875000     20.800000   0.125000   1.000000  0.950000   \n",
       "\n",
       "         BusinessAcceptsCreditCards  BikeParking  Alcohol  DogsAllowed  \\\n",
       "cluster                                                                  \n",
       "0                               0.0     0.989418      1.0     0.068783   \n",
       "1                               0.0     0.992891      1.0     0.026066   \n",
       "2                               0.0     1.000000      1.0     0.050000   \n",
       "\n",
       "         Open24Hours   Parking  Subway  McDon  Starbucks  \n",
       "cluster                                                   \n",
       "0                0.0  0.460317     1.0    0.0        0.0  \n",
       "1                0.0  0.651659     1.0    0.0        0.0  \n",
       "2                0.0  0.375000     1.0    0.0        0.0  "
      ]
     },
     "execution_count": 112,
     "metadata": {},
     "output_type": "execute_result"
    }
   ],
   "source": [
    "df2.groupby('cluster').mean()"
   ]
  },
  {
   "cell_type": "markdown",
   "metadata": {},
   "source": [
    "We see that Subway in the US is rated higher than those outside of the US (which valideates our finding in the plots). So, for the cluster 2 where Subway is in the US we see that it has the highset star rating. Also, we can see that those that have the highest star ratings(cluster 2) are most reviewed . Additionally, it is very interesting that those that have parking still rated the lowest (cluster 3), it means whether Subway's has parking or not doesn't affect too much on it being rated high.¶"
   ]
  },
  {
   "cell_type": "code",
   "execution_count": 113,
   "metadata": {
    "collapsed": true
   },
   "outputs": [],
   "source": [
    "df2['binned_review'] = pd.cut(df2.review_count,bins=[30,60,100,200,300,500,1000])"
   ]
  },
  {
   "cell_type": "code",
   "execution_count": 114,
   "metadata": {},
   "outputs": [
    {
     "data": {
      "text/plain": [
       "binned_review\n",
       "(30, 60]       2\n",
       "(60, 100]      0\n",
       "(100, 200]     0\n",
       "(200, 300]     0\n",
       "(300, 500]     0\n",
       "(500, 1000]    0\n",
       "dtype: int64"
      ]
     },
     "execution_count": 114,
     "metadata": {},
     "output_type": "execute_result"
    }
   ],
   "source": [
    "df2.groupby('binned_review').size()"
   ]
  },
  {
   "cell_type": "markdown",
   "metadata": {},
   "source": [
    "We see from these numbers that McDonald's is getting mostly from 30 to 60 reviews. Which is not a lot."
   ]
  },
  {
   "cell_type": "code",
   "execution_count": 115,
   "metadata": {
    "collapsed": true
   },
   "outputs": [],
   "source": [
    "df2['binned_review1'] = pd.cut(df2.review_count,bins=[1000,2000,3000,4000,5000,6000,7000])"
   ]
  },
  {
   "cell_type": "code",
   "execution_count": 116,
   "metadata": {},
   "outputs": [
    {
     "data": {
      "text/plain": [
       "binned_review1\n",
       "(1000, 2000]    0\n",
       "(2000, 3000]    0\n",
       "(3000, 4000]    0\n",
       "(4000, 5000]    0\n",
       "(5000, 6000]    0\n",
       "(6000, 7000]    0\n",
       "dtype: int64"
      ]
     },
     "execution_count": 116,
     "metadata": {},
     "output_type": "execute_result"
    }
   ],
   "source": [
    "df2.groupby('binned_review1').size()"
   ]
  },
  {
   "cell_type": "code",
   "execution_count": 117,
   "metadata": {},
   "outputs": [
    {
     "data": {
      "text/plain": [
       "<matplotlib.axes._subplots.AxesSubplot at 0x3c8a2ab0>"
      ]
     },
     "execution_count": 117,
     "metadata": {},
     "output_type": "execute_result"
    },
    {
     "data": {
      "image/png": "[encoded data removed]",
      "text/plain": [
       "<matplotlib.figure.Figure at 0x3c8a2ed0>"
      ]
     },
     "metadata": {},
     "output_type": "display_data"
    }
   ],
   "source": [
    "## Review counts for Subway\n",
    "sns.countplot(x='binned_review', data=df2)"
   ]
  },
  {
   "cell_type": "markdown",
   "metadata": {
    "collapsed": true
   },
   "source": [
    "# 3.5.4 K-Means Clustering Analysis for Mcdonalds¶"
   ]
  },
  {
   "cell_type": "code",
   "execution_count": 118,
   "metadata": {
    "collapsed": true
   },
   "outputs": [],
   "source": [
    "from sklearn.cluster import KMeans"
   ]
  },
  {
   "cell_type": "code",
   "execution_count": 119,
   "metadata": {
    "collapsed": true
   },
   "outputs": [],
   "source": [
    "df_mc= df[df['McDon']==1]"
   ]
  },
  {
   "cell_type": "code",
   "execution_count": 120,
   "metadata": {},
   "outputs": [
    {
     "data": {
      "text/plain": [
       "KMeans(algorithm='auto', copy_x=True, init='k-means++', max_iter=300,\n",
       "    n_clusters=3, n_init=10, n_jobs=1, precompute_distances='auto',\n",
       "    random_state=0, tol=0.0001, verbose=0)"
      ]
     },
     "execution_count": 120,
     "metadata": {},
     "output_type": "execute_result"
    }
   ],
   "source": [
    "clust1 = KMeans(n_clusters=3, random_state=0)\n",
    "clust1"
   ]
  },
  {
   "cell_type": "code",
   "execution_count": 121,
   "metadata": {},
   "outputs": [
    {
     "data": {
      "text/plain": [
       "KMeans(algorithm='auto', copy_x=True, init='k-means++', max_iter=300,\n",
       "    n_clusters=3, n_init=10, n_jobs=1, precompute_distances='auto',\n",
       "    random_state=0, tol=0.0001, verbose=0)"
      ]
     },
     "execution_count": 121,
     "metadata": {},
     "output_type": "execute_result"
    }
   ],
   "source": [
    "clust1.fit(df_mc)"
   ]
  },
  {
   "cell_type": "code",
   "execution_count": 122,
   "metadata": {
    "collapsed": true
   },
   "outputs": [],
   "source": [
    "df3 = df_mc.copy()"
   ]
  },
  {
   "cell_type": "code",
   "execution_count": 123,
   "metadata": {
    "collapsed": true
   },
   "outputs": [],
   "source": [
    "df3['cluster']=clust1.labels_"
   ]
  },
  {
   "cell_type": "code",
   "execution_count": 124,
   "metadata": {},
   "outputs": [
    {
     "data": {
      "text/html": [
       "<div>\n",
       "<style>\n",
       "    .dataframe thead tr:only-child th {\n",
       "        text-align: right;\n",
       "    }\n",
       "\n",
       "    .dataframe thead th {\n",
       "        text-align: left;\n",
       "    }\n",
       "\n",
       "    .dataframe tbody tr th {\n",
       "        vertical-align: top;\n",
       "    }\n",
       "</style>\n",
       "<table border=\"1\" class=\"dataframe\">\n",
       "  <thead>\n",
       "    <tr style=\"text-align: right;\">\n",
       "      <th></th>\n",
       "      <th>stars</th>\n",
       "      <th>review_count</th>\n",
       "      <th>stars_dum</th>\n",
       "      <th>US_states</th>\n",
       "      <th>is_open</th>\n",
       "      <th>BusinessAcceptsCreditCards</th>\n",
       "      <th>BikeParking</th>\n",
       "      <th>Alcohol</th>\n",
       "      <th>DogsAllowed</th>\n",
       "      <th>Open24Hours</th>\n",
       "      <th>Parking</th>\n",
       "      <th>Subway</th>\n",
       "      <th>McDon</th>\n",
       "      <th>Starbucks</th>\n",
       "    </tr>\n",
       "    <tr>\n",
       "      <th>cluster</th>\n",
       "      <th></th>\n",
       "      <th></th>\n",
       "      <th></th>\n",
       "      <th></th>\n",
       "      <th></th>\n",
       "      <th></th>\n",
       "      <th></th>\n",
       "      <th></th>\n",
       "      <th></th>\n",
       "      <th></th>\n",
       "      <th></th>\n",
       "      <th></th>\n",
       "      <th></th>\n",
       "      <th></th>\n",
       "    </tr>\n",
       "  </thead>\n",
       "  <tbody>\n",
       "    <tr>\n",
       "      <th>0</th>\n",
       "      <td>2.229979</td>\n",
       "      <td>6.954825</td>\n",
       "      <td>0.034908</td>\n",
       "      <td>0.622177</td>\n",
       "      <td>0.956879</td>\n",
       "      <td>0.002053</td>\n",
       "      <td>1.000000</td>\n",
       "      <td>1.0</td>\n",
       "      <td>0.583162</td>\n",
       "      <td>0.0</td>\n",
       "      <td>0.537988</td>\n",
       "      <td>0.0</td>\n",
       "      <td>1.0</td>\n",
       "      <td>0.0</td>\n",
       "    </tr>\n",
       "    <tr>\n",
       "      <th>1</th>\n",
       "      <td>2.071078</td>\n",
       "      <td>22.112745</td>\n",
       "      <td>0.009804</td>\n",
       "      <td>0.887255</td>\n",
       "      <td>0.970588</td>\n",
       "      <td>0.000000</td>\n",
       "      <td>0.995098</td>\n",
       "      <td>1.0</td>\n",
       "      <td>0.848039</td>\n",
       "      <td>0.0</td>\n",
       "      <td>0.392157</td>\n",
       "      <td>0.0</td>\n",
       "      <td>1.0</td>\n",
       "      <td>0.0</td>\n",
       "    </tr>\n",
       "    <tr>\n",
       "      <th>2</th>\n",
       "      <td>1.920455</td>\n",
       "      <td>52.454545</td>\n",
       "      <td>0.000000</td>\n",
       "      <td>1.000000</td>\n",
       "      <td>0.977273</td>\n",
       "      <td>0.000000</td>\n",
       "      <td>1.000000</td>\n",
       "      <td>1.0</td>\n",
       "      <td>0.931818</td>\n",
       "      <td>0.0</td>\n",
       "      <td>0.568182</td>\n",
       "      <td>0.0</td>\n",
       "      <td>1.0</td>\n",
       "      <td>0.0</td>\n",
       "    </tr>\n",
       "  </tbody>\n",
       "</table>\n",
       "</div>"
      ],
      "text/plain": [
       "            stars  review_count  stars_dum  US_states   is_open  \\\n",
       "cluster                                                           \n",
       "0        2.229979      6.954825   0.034908   0.622177  0.956879   \n",
       "1        2.071078     22.112745   0.009804   0.887255  0.970588   \n",
       "2        1.920455     52.454545   0.000000   1.000000  0.977273   \n",
       "\n",
       "         BusinessAcceptsCreditCards  BikeParking  Alcohol  DogsAllowed  \\\n",
       "cluster                                                                  \n",
       "0                          0.002053     1.000000      1.0     0.583162   \n",
       "1                          0.000000     0.995098      1.0     0.848039   \n",
       "2                          0.000000     1.000000      1.0     0.931818   \n",
       "\n",
       "         Open24Hours   Parking  Subway  McDon  Starbucks  \n",
       "cluster                                                   \n",
       "0                0.0  0.537988     0.0    1.0        0.0  \n",
       "1                0.0  0.392157     0.0    1.0        0.0  \n",
       "2                0.0  0.568182     0.0    1.0        0.0  "
      ]
     },
     "execution_count": 124,
     "metadata": {},
     "output_type": "execute_result"
    }
   ],
   "source": [
    "df3.groupby('cluster').mean()"
   ]
  },
  {
   "cell_type": "markdown",
   "metadata": {},
   "source": [
    "#We see that the McDonald's in the US is rated lower on average than for those outside of the US (which valideates our finding). So, for the cluster 2 where McDonald's is in the US we see that it has the lowest star rating. Also, we can see that those that have the highest star ratings(cluster 0) are reviewed the least. This is different from that of subway. Additionally, it is very interesting that those that have parking still rated the lowest (cluster 3), it means whether McDonald's has parking or not doesn't affect too much on it being rated high."
   ]
  },
  {
   "cell_type": "code",
   "execution_count": 125,
   "metadata": {
    "collapsed": true
   },
   "outputs": [],
   "source": [
    "df3['binned_review'] = pd.cut(df3.review_count,bins=[30,60,100,200,300,500,1000])"
   ]
  },
  {
   "cell_type": "code",
   "execution_count": 126,
   "metadata": {},
   "outputs": [
    {
     "data": {
      "text/plain": [
       "binned_review\n",
       "(30, 60]       61\n",
       "(60, 100]       9\n",
       "(100, 200]      0\n",
       "(200, 300]      0\n",
       "(300, 500]      0\n",
       "(500, 1000]     0\n",
       "dtype: int64"
      ]
     },
     "execution_count": 126,
     "metadata": {},
     "output_type": "execute_result"
    }
   ],
   "source": [
    "df3.groupby('binned_review').size()"
   ]
  },
  {
   "cell_type": "markdown",
   "metadata": {
    "collapsed": true
   },
   "source": [
    "We see from these numbers that McDonald's is getting mostly from 30 to 60 reviews. Which is not a lot."
   ]
  },
  {
   "cell_type": "code",
   "execution_count": 127,
   "metadata": {
    "collapsed": true
   },
   "outputs": [],
   "source": [
    "df3['binned_review1'] = pd.cut(df3.review_count,bins=[1000,2000,3000,4000,5000,6000,7000])"
   ]
  },
  {
   "cell_type": "code",
   "execution_count": 128,
   "metadata": {},
   "outputs": [
    {
     "data": {
      "text/plain": [
       "binned_review1\n",
       "(1000, 2000]    0\n",
       "(2000, 3000]    0\n",
       "(3000, 4000]    0\n",
       "(4000, 5000]    0\n",
       "(5000, 6000]    0\n",
       "(6000, 7000]    0\n",
       "dtype: int64"
      ]
     },
     "execution_count": 128,
     "metadata": {},
     "output_type": "execute_result"
    }
   ],
   "source": [
    "df3.groupby('binned_review1').size()"
   ]
  },
  {
   "cell_type": "code",
   "execution_count": 129,
   "metadata": {},
   "outputs": [
    {
     "data": {
      "text/plain": [
       "<matplotlib.axes._subplots.AxesSubplot at 0x3c986650>"
      ]
     },
     "execution_count": 129,
     "metadata": {},
     "output_type": "execute_result"
    },
    {
     "data": {
      "image/png": "[encoded data removed]",
      "text/plain": [
       "<matplotlib.figure.Figure at 0x3c97b710>"
      ]
     },
     "metadata": {},
     "output_type": "display_data"
    }
   ],
   "source": [
    "## Review counts for McDonald's\n",
    "sns.countplot(x='binned_review', data=df3)"
   ]
  },
  {
   "cell_type": "markdown",
   "metadata": {
    "collapsed": true
   },
   "source": [
    "# 3.5.5. K-Means Clustering Analysis for Starbucks"
   ]
  },
  {
   "cell_type": "code",
   "execution_count": 130,
   "metadata": {
    "collapsed": true
   },
   "outputs": [],
   "source": [
    "from sklearn.cluster import KMeans"
   ]
  },
  {
   "cell_type": "code",
   "execution_count": 131,
   "metadata": {
    "collapsed": true
   },
   "outputs": [],
   "source": [
    "df_Starbucks= df[df['Starbucks']==1]"
   ]
  },
  {
   "cell_type": "code",
   "execution_count": 132,
   "metadata": {},
   "outputs": [
    {
     "data": {
      "text/plain": [
       "KMeans(algorithm='auto', copy_x=True, init='k-means++', max_iter=300,\n",
       "    n_clusters=3, n_init=10, n_jobs=1, precompute_distances='auto',\n",
       "    random_state=0, tol=0.0001, verbose=0)"
      ]
     },
     "execution_count": 132,
     "metadata": {},
     "output_type": "execute_result"
    }
   ],
   "source": [
    "clust2 = KMeans(n_clusters=3, random_state=0)\n",
    "clust2"
   ]
  },
  {
   "cell_type": "code",
   "execution_count": 133,
   "metadata": {},
   "outputs": [
    {
     "data": {
      "text/plain": [
       "KMeans(algorithm='auto', copy_x=True, init='k-means++', max_iter=300,\n",
       "    n_clusters=3, n_init=10, n_jobs=1, precompute_distances='auto',\n",
       "    random_state=0, tol=0.0001, verbose=0)"
      ]
     },
     "execution_count": 133,
     "metadata": {},
     "output_type": "execute_result"
    }
   ],
   "source": [
    "clust2.fit(df_Starbucks)"
   ]
  },
  {
   "cell_type": "code",
   "execution_count": 134,
   "metadata": {
    "collapsed": true
   },
   "outputs": [],
   "source": [
    "df4 = df_Starbucks.copy()"
   ]
  },
  {
   "cell_type": "code",
   "execution_count": 135,
   "metadata": {
    "collapsed": true
   },
   "outputs": [],
   "source": [
    "df4['cluster']=clust2.labels_"
   ]
  },
  {
   "cell_type": "code",
   "execution_count": 136,
   "metadata": {},
   "outputs": [
    {
     "data": {
      "text/html": [
       "<div>\n",
       "<style>\n",
       "    .dataframe thead tr:only-child th {\n",
       "        text-align: right;\n",
       "    }\n",
       "\n",
       "    .dataframe thead th {\n",
       "        text-align: left;\n",
       "    }\n",
       "\n",
       "    .dataframe tbody tr th {\n",
       "        vertical-align: top;\n",
       "    }\n",
       "</style>\n",
       "<table border=\"1\" class=\"dataframe\">\n",
       "  <thead>\n",
       "    <tr style=\"text-align: right;\">\n",
       "      <th></th>\n",
       "      <th>stars</th>\n",
       "      <th>review_count</th>\n",
       "      <th>stars_dum</th>\n",
       "      <th>US_states</th>\n",
       "      <th>is_open</th>\n",
       "      <th>BusinessAcceptsCreditCards</th>\n",
       "      <th>BikeParking</th>\n",
       "      <th>Alcohol</th>\n",
       "      <th>DogsAllowed</th>\n",
       "      <th>Open24Hours</th>\n",
       "      <th>Parking</th>\n",
       "      <th>Subway</th>\n",
       "      <th>McDon</th>\n",
       "      <th>Starbucks</th>\n",
       "    </tr>\n",
       "    <tr>\n",
       "      <th>cluster</th>\n",
       "      <th></th>\n",
       "      <th></th>\n",
       "      <th></th>\n",
       "      <th></th>\n",
       "      <th></th>\n",
       "      <th></th>\n",
       "      <th></th>\n",
       "      <th></th>\n",
       "      <th></th>\n",
       "      <th></th>\n",
       "      <th></th>\n",
       "      <th></th>\n",
       "      <th></th>\n",
       "      <th></th>\n",
       "    </tr>\n",
       "  </thead>\n",
       "  <tbody>\n",
       "    <tr>\n",
       "      <th>0</th>\n",
       "      <td>3.138767</td>\n",
       "      <td>36.017621</td>\n",
       "      <td>0.114537</td>\n",
       "      <td>0.916300</td>\n",
       "      <td>0.964758</td>\n",
       "      <td>0.004405</td>\n",
       "      <td>0.986784</td>\n",
       "      <td>1.000000</td>\n",
       "      <td>0.0</td>\n",
       "      <td>0.0</td>\n",
       "      <td>0.933921</td>\n",
       "      <td>0.0</td>\n",
       "      <td>0.0</td>\n",
       "      <td>1.0</td>\n",
       "    </tr>\n",
       "    <tr>\n",
       "      <th>1</th>\n",
       "      <td>3.319785</td>\n",
       "      <td>9.345092</td>\n",
       "      <td>0.292945</td>\n",
       "      <td>0.544479</td>\n",
       "      <td>0.915644</td>\n",
       "      <td>0.000000</td>\n",
       "      <td>0.995399</td>\n",
       "      <td>0.984663</td>\n",
       "      <td>0.0</td>\n",
       "      <td>0.0</td>\n",
       "      <td>0.973926</td>\n",
       "      <td>0.0</td>\n",
       "      <td>0.0</td>\n",
       "      <td>1.0</td>\n",
       "    </tr>\n",
       "    <tr>\n",
       "      <th>2</th>\n",
       "      <td>2.963235</td>\n",
       "      <td>79.602941</td>\n",
       "      <td>0.029412</td>\n",
       "      <td>1.000000</td>\n",
       "      <td>1.000000</td>\n",
       "      <td>0.000000</td>\n",
       "      <td>1.000000</td>\n",
       "      <td>1.000000</td>\n",
       "      <td>0.0</td>\n",
       "      <td>0.0</td>\n",
       "      <td>0.970588</td>\n",
       "      <td>0.0</td>\n",
       "      <td>0.0</td>\n",
       "      <td>1.0</td>\n",
       "    </tr>\n",
       "  </tbody>\n",
       "</table>\n",
       "</div>"
      ],
      "text/plain": [
       "            stars  review_count  stars_dum  US_states   is_open  \\\n",
       "cluster                                                           \n",
       "0        3.138767     36.017621   0.114537   0.916300  0.964758   \n",
       "1        3.319785      9.345092   0.292945   0.544479  0.915644   \n",
       "2        2.963235     79.602941   0.029412   1.000000  1.000000   \n",
       "\n",
       "         BusinessAcceptsCreditCards  BikeParking   Alcohol  DogsAllowed  \\\n",
       "cluster                                                                   \n",
       "0                          0.004405     0.986784  1.000000          0.0   \n",
       "1                          0.000000     0.995399  0.984663          0.0   \n",
       "2                          0.000000     1.000000  1.000000          0.0   \n",
       "\n",
       "         Open24Hours   Parking  Subway  McDon  Starbucks  \n",
       "cluster                                                   \n",
       "0                0.0  0.933921     0.0    0.0        1.0  \n",
       "1                0.0  0.973926     0.0    0.0        1.0  \n",
       "2                0.0  0.970588     0.0    0.0        1.0  "
      ]
     },
     "execution_count": 136,
     "metadata": {},
     "output_type": "execute_result"
    }
   ],
   "source": [
    "df4.groupby('cluster').mean()"
   ]
  },
  {
   "cell_type": "markdown",
   "metadata": {},
   "source": [
    " The finding based on the above is that the Starbucks in the US is rated lower than those outside of the US (which valideates our finding). So, for the cluster 2 where Starbucks is in the US we see that it has the lowest star rating. Also, we can see that those that have the highest star ratings(cluster 1) are reviewed the least. We can see that the results for Starbucks stayed almost the same as for McDonald's and differes from Subway."
   ]
  },
  {
   "cell_type": "code",
   "execution_count": 137,
   "metadata": {
    "collapsed": true
   },
   "outputs": [],
   "source": [
    "df4['binned_review'] = pd.cut(df4.review_count,bins=[30,60,100,200,300,500,1000])"
   ]
  },
  {
   "cell_type": "code",
   "execution_count": 138,
   "metadata": {},
   "outputs": [
    {
     "data": {
      "text/plain": [
       "binned_review\n",
       "(30, 60]       150\n",
       "(60, 100]       48\n",
       "(100, 200]      11\n",
       "(200, 300]       0\n",
       "(300, 500]       0\n",
       "(500, 1000]      0\n",
       "dtype: int64"
      ]
     },
     "execution_count": 138,
     "metadata": {},
     "output_type": "execute_result"
    }
   ],
   "source": [
    "df4.groupby('binned_review').size()"
   ]
  },
  {
   "cell_type": "code",
   "execution_count": 139,
   "metadata": {
    "collapsed": true
   },
   "outputs": [],
   "source": [
    "df4['binned_review1'] = pd.cut(df4.review_count,bins=[1000,2000,3000,4000,5000,6000,7000])"
   ]
  },
  {
   "cell_type": "code",
   "execution_count": 140,
   "metadata": {},
   "outputs": [
    {
     "data": {
      "text/plain": [
       "binned_review1\n",
       "(1000, 2000]    0\n",
       "(2000, 3000]    0\n",
       "(3000, 4000]    0\n",
       "(4000, 5000]    0\n",
       "(5000, 6000]    0\n",
       "(6000, 7000]    0\n",
       "dtype: int64"
      ]
     },
     "execution_count": 140,
     "metadata": {},
     "output_type": "execute_result"
    }
   ],
   "source": [
    "df4.groupby('binned_review1').size()"
   ]
  },
  {
   "cell_type": "code",
   "execution_count": 141,
   "metadata": {},
   "outputs": [
    {
     "data": {
      "text/plain": [
       "<matplotlib.axes._subplots.AxesSubplot at 0x3cae3070>"
      ]
     },
     "execution_count": 141,
     "metadata": {},
     "output_type": "execute_result"
    },
    {
     "data": {
      "image/png": "[encoded data removed]",
      "text/plain": [
       "<matplotlib.figure.Figure at 0x3c9f7d30>"
      ]
     },
     "metadata": {},
     "output_type": "display_data"
    }
   ],
   "source": [
    "## Review counts for Starbucks\n",
    "sns.countplot(x='binned_review', data=df4)"
   ]
  },
  {
   "cell_type": "markdown",
   "metadata": {
    "collapsed": true
   },
   "source": [
    "We see that the reviews are mostly 30-60, 60-100, and 100-200 is more or what significant too"
   ]
  },
  {
   "cell_type": "markdown",
   "metadata": {},
   "source": [
    "## Managerial Findings & Recommendations:\n",
    "\n",
    "1. People tend to review restaurants more than other types of businesses on Yelp.  Thus,  restaurants, coffee shops, etc. leverage Yelp reviews as a way to boost their online presence and attract more customers.\n",
    "\n",
    "2. The tips review that people leave for restaurants on Yelp are very important for ratings.  In case of negative sentiment in tip reviews, business owners can respond quickly to concerns of customers to  minimize low ratings.\n",
    "\n",
    "3. Using World's largest 3 restruant chain i.e. Subway, McDonald's & Starbucks as an example , customer perceptions of a restaurant can be very different within the US versus outside the US.  Chain restaurants can do some market research so that they can tailor their food offerings and their marketing strategy to each particular country/region."
   ]
  }
 ],
 "metadata": {
  "kernelspec": {
   "display_name": "Python 3",
   "language": "python",
   "name": "python3"
  },
  "language_info": {
   "codemirror_mode": {
    "name": "ipython",
    "version": 3
   },
   "file_extension": ".py",
   "mimetype": "text/x-python",
   "name": "python",
   "nbconvert_exporter": "python",
   "pygments_lexer": "ipython3",
   "version": "3.6.6"
  }
 },
 "nbformat": 4,
 "nbformat_minor": 1
}
